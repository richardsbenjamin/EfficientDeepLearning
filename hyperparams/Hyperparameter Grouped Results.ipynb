{
 "cells": [
  {
   "cell_type": "code",
   "execution_count": 1,
   "id": "1b242f79",
   "metadata": {},
   "outputs": [],
   "source": [
    "import pickle"
   ]
  },
  {
   "cell_type": "markdown",
   "id": "548de123",
   "metadata": {},
   "source": [
    "DenseNet121 Grouped1 Accuracy and Hyperparameters"
   ]
  },
  {
   "cell_type": "code",
   "execution_count": 5,
   "id": "8ee32228",
   "metadata": {},
   "outputs": [],
   "source": [
    "with open(\"hp_best_trial_grouped1.pkl\", \"rb\") as f:\n",
    "    trial = pickle.load(f)"
   ]
  },
  {
   "cell_type": "code",
   "execution_count": 6,
   "id": "f17df87e",
   "metadata": {},
   "outputs": [
    {
     "data": {
      "text/plain": [
       "87.34"
      ]
     },
     "execution_count": 6,
     "metadata": {},
     "output_type": "execute_result"
    }
   ],
   "source": [
    "trial.value"
   ]
  },
  {
   "cell_type": "code",
   "execution_count": 7,
   "id": "a82f4347",
   "metadata": {},
   "outputs": [
    {
     "data": {
      "text/plain": [
       "{'lr': 0.005131026160254109,\n",
       " 'momentum': 0.6840321149091073,\n",
       " 'weight_decay': 0.0007333779511427363}"
      ]
     },
     "execution_count": 7,
     "metadata": {},
     "output_type": "execute_result"
    }
   ],
   "source": [
    "trial.params"
   ]
  },
  {
   "cell_type": "markdown",
   "id": "ae8b8d8e",
   "metadata": {},
   "source": [
    "DenseNet121 Grouped2 Accuracy and Hyperparameters"
   ]
  },
  {
   "cell_type": "code",
   "execution_count": 8,
   "id": "5b7dc2e1",
   "metadata": {},
   "outputs": [],
   "source": [
    "with open(\"hp_best_trial_grouped2.pkl\", \"rb\") as f:\n",
    "    trial = pickle.load(f)"
   ]
  },
  {
   "cell_type": "code",
   "execution_count": 9,
   "id": "75a6b2f4",
   "metadata": {},
   "outputs": [
    {
     "data": {
      "text/plain": [
       "88.22"
      ]
     },
     "execution_count": 9,
     "metadata": {},
     "output_type": "execute_result"
    }
   ],
   "source": [
    "trial.value"
   ]
  },
  {
   "cell_type": "code",
   "execution_count": 10,
   "id": "109b3ea1",
   "metadata": {},
   "outputs": [
    {
     "data": {
      "text/plain": [
       "{'lr': 0.0007720590363521312,\n",
       " 'momentum': 0.5047264970912554,\n",
       " 'weight_decay': 0.00079963275714179}"
      ]
     },
     "execution_count": 10,
     "metadata": {},
     "output_type": "execute_result"
    }
   ],
   "source": [
    "trial.params"
   ]
  }
 ],
 "metadata": {
  "kernelspec": {
   "display_name": ".venv",
   "language": "python",
   "name": "python3"
  },
  "language_info": {
   "codemirror_mode": {
    "name": "ipython",
    "version": 3
   },
   "file_extension": ".py",
   "mimetype": "text/x-python",
   "name": "python",
   "nbconvert_exporter": "python",
   "pygments_lexer": "ipython3",
   "version": "3.12.3"
  }
 },
 "nbformat": 4,
 "nbformat_minor": 5
}
