{
 "cells": [
  {
   "cell_type": "code",
   "execution_count": 24,
   "id": "1b242f79",
   "metadata": {},
   "outputs": [],
   "source": [
    "import pickle"
   ]
  },
  {
   "cell_type": "markdown",
   "id": "548de123",
   "metadata": {},
   "source": [
    "DenseNet121 Accuracy and Hyperparameters"
   ]
  },
  {
   "cell_type": "code",
   "execution_count": 12,
   "id": "74e63182",
   "metadata": {},
   "outputs": [],
   "source": [
    "with open(\"hp_best_trial_DenseNet121.pkl\", 'rb') as f:\n",
    "    trial = pickle.load(f)"
   ]
  },
  {
   "cell_type": "code",
   "execution_count": 13,
   "id": "e2153679",
   "metadata": {},
   "outputs": [
    {
     "data": {
      "text/plain": [
       "89.95"
      ]
     },
     "execution_count": 13,
     "metadata": {},
     "output_type": "execute_result"
    }
   ],
   "source": [
    "trial.value # accuracy"
   ]
  },
  {
   "cell_type": "code",
   "execution_count": 14,
   "id": "798712c8",
   "metadata": {},
   "outputs": [
    {
     "data": {
      "text/plain": [
       "{'lr': 0.00022992718410041896,\n",
       " 'momentum': 0.5776349787051741,\n",
       " 'weight_decay': 0.0008645523681693905,\n",
       " 'optimizer': 'AdamW',\n",
       " 'lr_scheduler': 'CosineAnnealingLR'}"
      ]
     },
     "execution_count": 14,
     "metadata": {},
     "output_type": "execute_result"
    }
   ],
   "source": [
    "trial.params # hyperparams"
   ]
  },
  {
   "cell_type": "markdown",
   "id": "537ed33e",
   "metadata": {},
   "source": [
    "ResNet18 Accuracy and Hyperparameters"
   ]
  },
  {
   "cell_type": "code",
   "execution_count": 15,
   "id": "f3128925",
   "metadata": {},
   "outputs": [],
   "source": [
    "with open(\"hp_best_trial_ResNet18.pkl\", 'rb') as f:\n",
    "    trial = pickle.load(f)"
   ]
  },
  {
   "cell_type": "code",
   "execution_count": 16,
   "id": "57bec475",
   "metadata": {},
   "outputs": [
    {
     "data": {
      "text/plain": [
       "85.46"
      ]
     },
     "execution_count": 16,
     "metadata": {},
     "output_type": "execute_result"
    }
   ],
   "source": [
    "trial.value # accuracy"
   ]
  },
  {
   "cell_type": "code",
   "execution_count": 17,
   "id": "ff5f3dcc",
   "metadata": {},
   "outputs": [
    {
     "data": {
      "text/plain": [
       "{'lr': 0.03609265340756777,\n",
       " 'momentum': 0.5695783057375956,\n",
       " 'weight_decay': 0.00078833675270513,\n",
       " 'optimizer': 'SGD',\n",
       " 'lr_scheduler': 'ExponentialLR'}"
      ]
     },
     "execution_count": 17,
     "metadata": {},
     "output_type": "execute_result"
    }
   ],
   "source": [
    "trial.params # hyperparams"
   ]
  },
  {
   "cell_type": "markdown",
   "id": "41efceff",
   "metadata": {},
   "source": [
    "PreActResNet18 Accuracy and Hyperparameters"
   ]
  },
  {
   "cell_type": "code",
   "execution_count": 18,
   "id": "7d2385ca",
   "metadata": {},
   "outputs": [],
   "source": [
    "with open(\"hp_best_trial_PreActResNet18.pkl\", 'rb') as f:\n",
    "    trial = pickle.load(f)"
   ]
  },
  {
   "cell_type": "code",
   "execution_count": 19,
   "id": "15f51398",
   "metadata": {},
   "outputs": [
    {
     "data": {
      "text/plain": [
       "87.58"
      ]
     },
     "execution_count": 19,
     "metadata": {},
     "output_type": "execute_result"
    }
   ],
   "source": [
    "trial.value # accuracy"
   ]
  },
  {
   "cell_type": "code",
   "execution_count": 20,
   "id": "670a570f",
   "metadata": {},
   "outputs": [
    {
     "data": {
      "text/plain": [
       "{'lr': 0.030538134085455384,\n",
       " 'momentum': 0.8211669443982039,\n",
       " 'weight_decay': 0.0009989377691002638,\n",
       " 'optimizer': 'SGD',\n",
       " 'lr_scheduler': 'ExponentialLR'}"
      ]
     },
     "execution_count": 20,
     "metadata": {},
     "output_type": "execute_result"
    }
   ],
   "source": [
    "trial.params # hyperparams"
   ]
  },
  {
   "cell_type": "markdown",
   "id": "f5268060",
   "metadata": {},
   "source": [
    "Save the best ones"
   ]
  },
  {
   "cell_type": "code",
   "execution_count": 25,
   "id": "5c146271",
   "metadata": {},
   "outputs": [],
   "source": [
    "with open(\"hp_best_params.pkl\", \"wb\") as wf:\n",
    "    with open(\"hp_best_trial_DenseNet121.pkl\", \"rb\") as rf:\n",
    "        best_trial = pickle.load(rf)\n",
    "        pickle.dump(best_trial, wf)"
   ]
  }
 ],
 "metadata": {
  "kernelspec": {
   "display_name": ".venv",
   "language": "python",
   "name": "python3"
  },
  "language_info": {
   "codemirror_mode": {
    "name": "ipython",
    "version": 3
   },
   "file_extension": ".py",
   "mimetype": "text/x-python",
   "name": "python",
   "nbconvert_exporter": "python",
   "pygments_lexer": "ipython3",
   "version": "3.12.3"
  }
 },
 "nbformat": 4,
 "nbformat_minor": 5
}
