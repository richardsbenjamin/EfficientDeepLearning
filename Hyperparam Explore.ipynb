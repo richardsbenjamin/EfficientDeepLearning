{
 "cells": [
  {
   "cell_type": "code",
   "execution_count": 41,
   "id": "cf6cf2a3",
   "metadata": {},
   "outputs": [],
   "source": [
    "import optuna\n",
    "import torch.nn as nn\n",
    "\n",
    "from models import (\n",
    "    ResNet18,\n",
    "    ResNet34,\n",
    "    ResNet50,\n",
    "    PreActResNet18,\n",
    "    PreActResNet34,\n",
    "    PreActResNet50,\n",
    "    DenseNet121,\n",
    "    DenseNet161,\n",
    "    DenseNet169,\n",
    ")\n",
    "from utils import (\n",
    "    get_cifar10_train_val_loaders,\n",
    "    get_device,\n",
    "    get_optimiser,\n",
    "    get_scheduler,\n",
    "    pickle_dump,\n",
    "    train, \n",
    "    test,\n",
    ")"
   ]
  },
  {
   "cell_type": "code",
   "execution_count": 30,
   "id": "d3ebd558",
   "metadata": {},
   "outputs": [],
   "source": [
    "hp_floats = {\n",
    "    \"lr\": {\"low\": 1e-4, \"high\": 0.1, \"log\": True},\n",
    "    \"momentum\": {\"low\": 0.4, \"high\": 0.9},\n",
    "    \"weight_decay\": {\"low\": 5e-4, \"high\": 1e-3},\n",
    "}\n",
    "\n",
    "hp_categorical = {\n",
    "    \"optimisers\": {\"names\": [\"SGD\", \"Adam\", \"RMSprop\", \"AdamW\"]},\n",
    "    \"lr_schedulers\": {\n",
    "        \"names\": [\"StepLR\", \"ExponentialLR\", \"ReduceLROnPlateau\", \"CosineAnnealingLR\"],\n",
    "        \"params\": {\n",
    "            \"StepLR\": {\"step_size\": 5, \"gamma\": 0.5},\n",
    "            \"ExponentialLR\": {\"gamma\": 0.9},\n",
    "            \"ReduceLROnPlateau\": {\"mode\": 'min', \"factor\": 0.5, \"patience\": 3},\n",
    "            \"CosineAnnealingLR\": {\"T_max\": 10},\n",
    "        }\n",
    "    },\n",
    "}\n"
   ]
  },
  {
   "cell_type": "code",
   "execution_count": 39,
   "id": "d55a0d34",
   "metadata": {},
   "outputs": [],
   "source": [
    "def objective(trial, model_class: nn.Module, n_epochs: int = 10, device: str = \"cuda\") -> float:\n",
    "    algo_hyperparams = {\n",
    "        hp_name: trial.suggest_float(hp_name, **hp_params)\n",
    "        for hp_name, hp_params in hp_floats.items()\n",
    "    }\n",
    "\n",
    "    optimiser_name = trial.suggest_categorical(\"optimizer\", hp_categorical[\"optimisers\"][\"names\"])\n",
    "    scheduler_name = trial.suggest_categorical(\"lr_scheduler\", hp_categorical[\"lr_schedulers\"][\"names\"])\n",
    "\n",
    "    train_loader, val_loader = get_cifar10_train_val_loaders()\n",
    "\n",
    "    model = model_class().to(device)\n",
    "\n",
    "    if optimiser_name in (\"Adam\", \"AdamW\"):\n",
    "        del algo_hyperparams[\"momentum\"]\n",
    "\n",
    "    optimiser = get_optimiser(\n",
    "        optimiser_name, model.parameters(), **algo_hyperparams,\n",
    "    )\n",
    "    scheduler = get_scheduler(\n",
    "        scheduler_name,\n",
    "        optimiser,\n",
    "        **hp_categorical[\"lr_schedulers\"][\"params\"][scheduler_name],\n",
    "    )\n",
    "    criterion = nn.CrossEntropyLoss()\n",
    "\n",
    "    best_val_acc = 0\n",
    "    for epoch in range(n_epochs):\n",
    "        train_acc, train_loss = train(train_loader, model, optimiser, criterion, device)\n",
    "        val_acc, val_loss = test(val_loader, model, criterion, device)\n",
    "\n",
    "        if scheduler_name == \"ReduceLROnPlateau\":\n",
    "            scheduler.step(val_loss)\n",
    "        else:\n",
    "            scheduler.step()\n",
    "\n",
    "        trial.report(val_acc, epoch)\n",
    "\n",
    "        if val_acc > best_val_acc:\n",
    "            best_val_acc = val_acc\n",
    "\n",
    "        if trial.should_prune():\n",
    "            raise optuna.exceptions.TrialPruned()\n",
    "\n",
    "    return best_val_acc\n"
   ]
  },
  {
   "cell_type": "code",
   "execution_count": null,
   "id": "34ede02e",
   "metadata": {},
   "outputs": [
    {
     "name": "stderr",
     "output_type": "stream",
     "text": [
      "[I 2025-04-21 17:06:18,343] A new study created in memory with name: no-name-e74983e7-4146-400c-9a19-9df7e19a9c93\n",
      "[I 2025-04-21 17:07:36,015] Trial 0 finished with value: 12.6 and parameters: {'lr': 0.01670994484273603, 'momentum': 0.8554835164978709, 'weight_decay': 0.0007308598285075895, 'optimizer': 'RMSprop', 'lr_scheduler': 'StepLR'}. Best is trial 0 with value: 12.6.\n",
      "[I 2025-04-21 17:08:52,905] Trial 1 finished with value: 67.22 and parameters: {'lr': 0.00016241757677590437, 'momentum': 0.656749040191158, 'weight_decay': 0.000989965326603325, 'optimizer': 'Adam', 'lr_scheduler': 'CosineAnnealingLR'}. Best is trial 1 with value: 67.22.\n",
      "[I 2025-04-21 17:10:09,289] Trial 2 finished with value: 18.58 and parameters: {'lr': 0.08934223247950826, 'momentum': 0.8473421104744163, 'weight_decay': 0.0006923527135673363, 'optimizer': 'AdamW', 'lr_scheduler': 'StepLR'}. Best is trial 1 with value: 67.22.\n",
      "[I 2025-04-21 17:11:22,401] Trial 3 finished with value: 62.26 and parameters: {'lr': 0.0027502336012153027, 'momentum': 0.8640938231260091, 'weight_decay': 0.000672029098216798, 'optimizer': 'SGD', 'lr_scheduler': 'ExponentialLR'}. Best is trial 1 with value: 67.22.\n",
      "[I 2025-04-21 17:12:38,836] Trial 4 finished with value: 29.94 and parameters: {'lr': 0.0913260361866739, 'momentum': 0.42811580573599123, 'weight_decay': 0.0009771662112426098, 'optimizer': 'AdamW', 'lr_scheduler': 'ReduceLROnPlateau'}. Best is trial 1 with value: 67.22.\n",
      "[I 2025-04-21 17:13:51,923] Trial 5 finished with value: 59.79 and parameters: {'lr': 0.003994843054466387, 'momentum': 0.4982319592572286, 'weight_decay': 0.0005599816075250061, 'optimizer': 'SGD', 'lr_scheduler': 'CosineAnnealingLR'}. Best is trial 1 with value: 67.22.\n",
      "[I 2025-04-21 17:15:05,024] Trial 6 finished with value: 61.09 and parameters: {'lr': 0.0040141708222291884, 'momentum': 0.41957728777158626, 'weight_decay': 0.000962425593440509, 'optimizer': 'SGD', 'lr_scheduler': 'ReduceLROnPlateau'}. Best is trial 1 with value: 67.22.\n",
      "[I 2025-04-21 17:16:21,714] Trial 7 pruned. \n",
      "[I 2025-04-21 17:17:38,669] Trial 8 pruned. \n",
      "[I 2025-04-21 17:18:52,034] Trial 9 finished with value: 61.22 and parameters: {'lr': 0.006273562732270014, 'momentum': 0.863912495782407, 'weight_decay': 0.0008932669844940691, 'optimizer': 'SGD', 'lr_scheduler': 'CosineAnnealingLR'}. Best is trial 1 with value: 67.22.\n",
      "[I 2025-04-21 17:20:08,986] Trial 10 finished with value: 62.05 and parameters: {'lr': 0.00010513775467088616, 'momentum': 0.6856406882040633, 'weight_decay': 0.0008290093915585695, 'optimizer': 'Adam', 'lr_scheduler': 'CosineAnnealingLR'}. Best is trial 1 with value: 67.22.\n",
      "[I 2025-04-21 17:21:25,833] Trial 11 finished with value: 61.17 and parameters: {'lr': 0.000600849011274721, 'momentum': 0.7419212938430598, 'weight_decay': 0.0006060874084529499, 'optimizer': 'Adam', 'lr_scheduler': 'ExponentialLR'}. Best is trial 1 with value: 67.22.\n",
      "[I 2025-04-21 17:22:42,677] Trial 12 pruned. \n",
      "[W 2025-04-21 17:23:54,699] Trial 13 failed with parameters: {'lr': 0.0010761137147090576, 'momentum': 0.7611618826468987, 'weight_decay': 0.0008012500233940397, 'optimizer': 'Adam', 'lr_scheduler': 'ExponentialLR'} because of the following error: KeyboardInterrupt().\n",
      "Traceback (most recent call last):\n",
      "  File \"/homes/b24richa/Documents/EDL/.venv/lib/python3.12/site-packages/optuna/study/_optimize.py\", line 197, in _run_trial\n",
      "    value_or_values = func(trial)\n",
      "                      ^^^^^^^^^^^\n",
      "  File \"/tmp/ipykernel_2460301/217175716.py\", line 4, in <lambda>\n",
      "    study.optimize(lambda x: objective(x, ResNet18, 1, device), n_trials=50)\n",
      "                             ^^^^^^^^^^^^^^^^^^^^^^^^^^^^^^^^^\n",
      "  File \"/tmp/ipykernel_2460301/19479640.py\", line 30, in objective\n",
      "    val_acc, val_loss = test(val_loader, model, criterion, device)\n",
      "                        ^^^^^^^^^^^^^^^^^^^^^^^^^^^^^^^^^^^^^^^^^^\n",
      "  File \"/homes/b24richa/Documents/EDL/utils.py\", line 131, in test\n",
      "    test_loss += loss.item()\n",
      "                 ^^^^^^^^^^^\n",
      "KeyboardInterrupt\n",
      "[W 2025-04-21 17:23:54,703] Trial 13 failed with value None.\n"
     ]
    },
    {
     "ename": "KeyboardInterrupt",
     "evalue": "",
     "output_type": "error",
     "traceback": [
      "\u001b[31m---------------------------------------------------------------------------\u001b[39m",
      "\u001b[31mKeyboardInterrupt\u001b[39m                         Traceback (most recent call last)",
      "\u001b[36mCell\u001b[39m\u001b[36m \u001b[39m\u001b[32mIn[40]\u001b[39m\u001b[32m, line 4\u001b[39m\n\u001b[32m      1\u001b[39m device = get_device()\n\u001b[32m      3\u001b[39m study = optuna.create_study(direction=\u001b[33m\"\u001b[39m\u001b[33mmaximize\u001b[39m\u001b[33m\"\u001b[39m)\n\u001b[32m----> \u001b[39m\u001b[32m4\u001b[39m \u001b[43mstudy\u001b[49m\u001b[43m.\u001b[49m\u001b[43moptimize\u001b[49m\u001b[43m(\u001b[49m\u001b[38;5;28;43;01mlambda\u001b[39;49;00m\u001b[43m \u001b[49m\u001b[43mx\u001b[49m\u001b[43m:\u001b[49m\u001b[43m \u001b[49m\u001b[43mobjective\u001b[49m\u001b[43m(\u001b[49m\u001b[43mx\u001b[49m\u001b[43m,\u001b[49m\u001b[43m \u001b[49m\u001b[43mResNet18\u001b[49m\u001b[43m,\u001b[49m\u001b[43m \u001b[49m\u001b[32;43m1\u001b[39;49m\u001b[43m,\u001b[49m\u001b[43m \u001b[49m\u001b[43mdevice\u001b[49m\u001b[43m)\u001b[49m\u001b[43m,\u001b[49m\u001b[43m \u001b[49m\u001b[43mn_trials\u001b[49m\u001b[43m=\u001b[49m\u001b[32;43m50\u001b[39;49m\u001b[43m)\u001b[49m\n\u001b[32m      6\u001b[39m \u001b[38;5;28mprint\u001b[39m(\u001b[33m\"\u001b[39m\u001b[33mBest trial:\u001b[39m\u001b[33m\"\u001b[39m)\n\u001b[32m      7\u001b[39m trial = study.best_trial\n",
      "\u001b[36mFile \u001b[39m\u001b[32m~/Documents/EDL/.venv/lib/python3.12/site-packages/optuna/study/study.py:475\u001b[39m, in \u001b[36mStudy.optimize\u001b[39m\u001b[34m(self, func, n_trials, timeout, n_jobs, catch, callbacks, gc_after_trial, show_progress_bar)\u001b[39m\n\u001b[32m    373\u001b[39m \u001b[38;5;28;01mdef\u001b[39;00m\u001b[38;5;250m \u001b[39m\u001b[34moptimize\u001b[39m(\n\u001b[32m    374\u001b[39m     \u001b[38;5;28mself\u001b[39m,\n\u001b[32m    375\u001b[39m     func: ObjectiveFuncType,\n\u001b[32m   (...)\u001b[39m\u001b[32m    382\u001b[39m     show_progress_bar: \u001b[38;5;28mbool\u001b[39m = \u001b[38;5;28;01mFalse\u001b[39;00m,\n\u001b[32m    383\u001b[39m ) -> \u001b[38;5;28;01mNone\u001b[39;00m:\n\u001b[32m    384\u001b[39m \u001b[38;5;250m    \u001b[39m\u001b[33;03m\"\"\"Optimize an objective function.\u001b[39;00m\n\u001b[32m    385\u001b[39m \n\u001b[32m    386\u001b[39m \u001b[33;03m    Optimization is done by choosing a suitable set of hyperparameter values from a given\u001b[39;00m\n\u001b[32m   (...)\u001b[39m\u001b[32m    473\u001b[39m \u001b[33;03m            If nested invocation of this method occurs.\u001b[39;00m\n\u001b[32m    474\u001b[39m \u001b[33;03m    \"\"\"\u001b[39;00m\n\u001b[32m--> \u001b[39m\u001b[32m475\u001b[39m     \u001b[43m_optimize\u001b[49m\u001b[43m(\u001b[49m\n\u001b[32m    476\u001b[39m \u001b[43m        \u001b[49m\u001b[43mstudy\u001b[49m\u001b[43m=\u001b[49m\u001b[38;5;28;43mself\u001b[39;49m\u001b[43m,\u001b[49m\n\u001b[32m    477\u001b[39m \u001b[43m        \u001b[49m\u001b[43mfunc\u001b[49m\u001b[43m=\u001b[49m\u001b[43mfunc\u001b[49m\u001b[43m,\u001b[49m\n\u001b[32m    478\u001b[39m \u001b[43m        \u001b[49m\u001b[43mn_trials\u001b[49m\u001b[43m=\u001b[49m\u001b[43mn_trials\u001b[49m\u001b[43m,\u001b[49m\n\u001b[32m    479\u001b[39m \u001b[43m        \u001b[49m\u001b[43mtimeout\u001b[49m\u001b[43m=\u001b[49m\u001b[43mtimeout\u001b[49m\u001b[43m,\u001b[49m\n\u001b[32m    480\u001b[39m \u001b[43m        \u001b[49m\u001b[43mn_jobs\u001b[49m\u001b[43m=\u001b[49m\u001b[43mn_jobs\u001b[49m\u001b[43m,\u001b[49m\n\u001b[32m    481\u001b[39m \u001b[43m        \u001b[49m\u001b[43mcatch\u001b[49m\u001b[43m=\u001b[49m\u001b[38;5;28;43mtuple\u001b[39;49m\u001b[43m(\u001b[49m\u001b[43mcatch\u001b[49m\u001b[43m)\u001b[49m\u001b[43m \u001b[49m\u001b[38;5;28;43;01mif\u001b[39;49;00m\u001b[43m \u001b[49m\u001b[38;5;28;43misinstance\u001b[39;49m\u001b[43m(\u001b[49m\u001b[43mcatch\u001b[49m\u001b[43m,\u001b[49m\u001b[43m \u001b[49m\u001b[43mIterable\u001b[49m\u001b[43m)\u001b[49m\u001b[43m \u001b[49m\u001b[38;5;28;43;01melse\u001b[39;49;00m\u001b[43m \u001b[49m\u001b[43m(\u001b[49m\u001b[43mcatch\u001b[49m\u001b[43m,\u001b[49m\u001b[43m)\u001b[49m\u001b[43m,\u001b[49m\n\u001b[32m    482\u001b[39m \u001b[43m        \u001b[49m\u001b[43mcallbacks\u001b[49m\u001b[43m=\u001b[49m\u001b[43mcallbacks\u001b[49m\u001b[43m,\u001b[49m\n\u001b[32m    483\u001b[39m \u001b[43m        \u001b[49m\u001b[43mgc_after_trial\u001b[49m\u001b[43m=\u001b[49m\u001b[43mgc_after_trial\u001b[49m\u001b[43m,\u001b[49m\n\u001b[32m    484\u001b[39m \u001b[43m        \u001b[49m\u001b[43mshow_progress_bar\u001b[49m\u001b[43m=\u001b[49m\u001b[43mshow_progress_bar\u001b[49m\u001b[43m,\u001b[49m\n\u001b[32m    485\u001b[39m \u001b[43m    \u001b[49m\u001b[43m)\u001b[49m\n",
      "\u001b[36mFile \u001b[39m\u001b[32m~/Documents/EDL/.venv/lib/python3.12/site-packages/optuna/study/_optimize.py:63\u001b[39m, in \u001b[36m_optimize\u001b[39m\u001b[34m(study, func, n_trials, timeout, n_jobs, catch, callbacks, gc_after_trial, show_progress_bar)\u001b[39m\n\u001b[32m     61\u001b[39m \u001b[38;5;28;01mtry\u001b[39;00m:\n\u001b[32m     62\u001b[39m     \u001b[38;5;28;01mif\u001b[39;00m n_jobs == \u001b[32m1\u001b[39m:\n\u001b[32m---> \u001b[39m\u001b[32m63\u001b[39m         \u001b[43m_optimize_sequential\u001b[49m\u001b[43m(\u001b[49m\n\u001b[32m     64\u001b[39m \u001b[43m            \u001b[49m\u001b[43mstudy\u001b[49m\u001b[43m,\u001b[49m\n\u001b[32m     65\u001b[39m \u001b[43m            \u001b[49m\u001b[43mfunc\u001b[49m\u001b[43m,\u001b[49m\n\u001b[32m     66\u001b[39m \u001b[43m            \u001b[49m\u001b[43mn_trials\u001b[49m\u001b[43m,\u001b[49m\n\u001b[32m     67\u001b[39m \u001b[43m            \u001b[49m\u001b[43mtimeout\u001b[49m\u001b[43m,\u001b[49m\n\u001b[32m     68\u001b[39m \u001b[43m            \u001b[49m\u001b[43mcatch\u001b[49m\u001b[43m,\u001b[49m\n\u001b[32m     69\u001b[39m \u001b[43m            \u001b[49m\u001b[43mcallbacks\u001b[49m\u001b[43m,\u001b[49m\n\u001b[32m     70\u001b[39m \u001b[43m            \u001b[49m\u001b[43mgc_after_trial\u001b[49m\u001b[43m,\u001b[49m\n\u001b[32m     71\u001b[39m \u001b[43m            \u001b[49m\u001b[43mreseed_sampler_rng\u001b[49m\u001b[43m=\u001b[49m\u001b[38;5;28;43;01mFalse\u001b[39;49;00m\u001b[43m,\u001b[49m\n\u001b[32m     72\u001b[39m \u001b[43m            \u001b[49m\u001b[43mtime_start\u001b[49m\u001b[43m=\u001b[49m\u001b[38;5;28;43;01mNone\u001b[39;49;00m\u001b[43m,\u001b[49m\n\u001b[32m     73\u001b[39m \u001b[43m            \u001b[49m\u001b[43mprogress_bar\u001b[49m\u001b[43m=\u001b[49m\u001b[43mprogress_bar\u001b[49m\u001b[43m,\u001b[49m\n\u001b[32m     74\u001b[39m \u001b[43m        \u001b[49m\u001b[43m)\u001b[49m\n\u001b[32m     75\u001b[39m     \u001b[38;5;28;01melse\u001b[39;00m:\n\u001b[32m     76\u001b[39m         \u001b[38;5;28;01mif\u001b[39;00m n_jobs == -\u001b[32m1\u001b[39m:\n",
      "\u001b[36mFile \u001b[39m\u001b[32m~/Documents/EDL/.venv/lib/python3.12/site-packages/optuna/study/_optimize.py:160\u001b[39m, in \u001b[36m_optimize_sequential\u001b[39m\u001b[34m(study, func, n_trials, timeout, catch, callbacks, gc_after_trial, reseed_sampler_rng, time_start, progress_bar)\u001b[39m\n\u001b[32m    157\u001b[39m         \u001b[38;5;28;01mbreak\u001b[39;00m\n\u001b[32m    159\u001b[39m \u001b[38;5;28;01mtry\u001b[39;00m:\n\u001b[32m--> \u001b[39m\u001b[32m160\u001b[39m     frozen_trial = \u001b[43m_run_trial\u001b[49m\u001b[43m(\u001b[49m\u001b[43mstudy\u001b[49m\u001b[43m,\u001b[49m\u001b[43m \u001b[49m\u001b[43mfunc\u001b[49m\u001b[43m,\u001b[49m\u001b[43m \u001b[49m\u001b[43mcatch\u001b[49m\u001b[43m)\u001b[49m\n\u001b[32m    161\u001b[39m \u001b[38;5;28;01mfinally\u001b[39;00m:\n\u001b[32m    162\u001b[39m     \u001b[38;5;66;03m# The following line mitigates memory problems that can be occurred in some\u001b[39;00m\n\u001b[32m    163\u001b[39m     \u001b[38;5;66;03m# environments (e.g., services that use computing containers such as GitHub Actions).\u001b[39;00m\n\u001b[32m    164\u001b[39m     \u001b[38;5;66;03m# Please refer to the following PR for further details:\u001b[39;00m\n\u001b[32m    165\u001b[39m     \u001b[38;5;66;03m# https://github.com/optuna/optuna/pull/325.\u001b[39;00m\n\u001b[32m    166\u001b[39m     \u001b[38;5;28;01mif\u001b[39;00m gc_after_trial:\n",
      "\u001b[36mFile \u001b[39m\u001b[32m~/Documents/EDL/.venv/lib/python3.12/site-packages/optuna/study/_optimize.py:248\u001b[39m, in \u001b[36m_run_trial\u001b[39m\u001b[34m(study, func, catch)\u001b[39m\n\u001b[32m    241\u001b[39m         \u001b[38;5;28;01massert\u001b[39;00m \u001b[38;5;28;01mFalse\u001b[39;00m, \u001b[33m\"\u001b[39m\u001b[33mShould not reach.\u001b[39m\u001b[33m\"\u001b[39m\n\u001b[32m    243\u001b[39m \u001b[38;5;28;01mif\u001b[39;00m (\n\u001b[32m    244\u001b[39m     frozen_trial.state == TrialState.FAIL\n\u001b[32m    245\u001b[39m     \u001b[38;5;129;01mand\u001b[39;00m func_err \u001b[38;5;129;01mis\u001b[39;00m \u001b[38;5;129;01mnot\u001b[39;00m \u001b[38;5;28;01mNone\u001b[39;00m\n\u001b[32m    246\u001b[39m     \u001b[38;5;129;01mand\u001b[39;00m \u001b[38;5;129;01mnot\u001b[39;00m \u001b[38;5;28misinstance\u001b[39m(func_err, catch)\n\u001b[32m    247\u001b[39m ):\n\u001b[32m--> \u001b[39m\u001b[32m248\u001b[39m     \u001b[38;5;28;01mraise\u001b[39;00m func_err\n\u001b[32m    249\u001b[39m \u001b[38;5;28;01mreturn\u001b[39;00m frozen_trial\n",
      "\u001b[36mFile \u001b[39m\u001b[32m~/Documents/EDL/.venv/lib/python3.12/site-packages/optuna/study/_optimize.py:197\u001b[39m, in \u001b[36m_run_trial\u001b[39m\u001b[34m(study, func, catch)\u001b[39m\n\u001b[32m    195\u001b[39m \u001b[38;5;28;01mwith\u001b[39;00m get_heartbeat_thread(trial._trial_id, study._storage):\n\u001b[32m    196\u001b[39m     \u001b[38;5;28;01mtry\u001b[39;00m:\n\u001b[32m--> \u001b[39m\u001b[32m197\u001b[39m         value_or_values = \u001b[43mfunc\u001b[49m\u001b[43m(\u001b[49m\u001b[43mtrial\u001b[49m\u001b[43m)\u001b[49m\n\u001b[32m    198\u001b[39m     \u001b[38;5;28;01mexcept\u001b[39;00m exceptions.TrialPruned \u001b[38;5;28;01mas\u001b[39;00m e:\n\u001b[32m    199\u001b[39m         \u001b[38;5;66;03m# TODO(mamu): Handle multi-objective cases.\u001b[39;00m\n\u001b[32m    200\u001b[39m         state = TrialState.PRUNED\n",
      "\u001b[36mCell\u001b[39m\u001b[36m \u001b[39m\u001b[32mIn[40]\u001b[39m\u001b[32m, line 4\u001b[39m, in \u001b[36m<lambda>\u001b[39m\u001b[34m(x)\u001b[39m\n\u001b[32m      1\u001b[39m device = get_device()\n\u001b[32m      3\u001b[39m study = optuna.create_study(direction=\u001b[33m\"\u001b[39m\u001b[33mmaximize\u001b[39m\u001b[33m\"\u001b[39m)\n\u001b[32m----> \u001b[39m\u001b[32m4\u001b[39m study.optimize(\u001b[38;5;28;01mlambda\u001b[39;00m x: \u001b[43mobjective\u001b[49m\u001b[43m(\u001b[49m\u001b[43mx\u001b[49m\u001b[43m,\u001b[49m\u001b[43m \u001b[49m\u001b[43mResNet18\u001b[49m\u001b[43m,\u001b[49m\u001b[43m \u001b[49m\u001b[32;43m1\u001b[39;49m\u001b[43m,\u001b[49m\u001b[43m \u001b[49m\u001b[43mdevice\u001b[49m\u001b[43m)\u001b[49m, n_trials=\u001b[32m50\u001b[39m)\n\u001b[32m      6\u001b[39m \u001b[38;5;28mprint\u001b[39m(\u001b[33m\"\u001b[39m\u001b[33mBest trial:\u001b[39m\u001b[33m\"\u001b[39m)\n\u001b[32m      7\u001b[39m trial = study.best_trial\n",
      "\u001b[36mCell\u001b[39m\u001b[36m \u001b[39m\u001b[32mIn[39]\u001b[39m\u001b[32m, line 30\u001b[39m, in \u001b[36mobjective\u001b[39m\u001b[34m(trial, model_class, n_epochs, device)\u001b[39m\n\u001b[32m     28\u001b[39m \u001b[38;5;28;01mfor\u001b[39;00m epoch \u001b[38;5;129;01min\u001b[39;00m \u001b[38;5;28mrange\u001b[39m(n_epochs):\n\u001b[32m     29\u001b[39m     train_acc, train_loss = train(train_loader, model, optimiser, criterion, device)\n\u001b[32m---> \u001b[39m\u001b[32m30\u001b[39m     val_acc, val_loss = \u001b[43mtest\u001b[49m\u001b[43m(\u001b[49m\u001b[43mval_loader\u001b[49m\u001b[43m,\u001b[49m\u001b[43m \u001b[49m\u001b[43mmodel\u001b[49m\u001b[43m,\u001b[49m\u001b[43m \u001b[49m\u001b[43mcriterion\u001b[49m\u001b[43m,\u001b[49m\u001b[43m \u001b[49m\u001b[43mdevice\u001b[49m\u001b[43m)\u001b[49m\n\u001b[32m     32\u001b[39m     \u001b[38;5;28;01mif\u001b[39;00m scheduler_name == \u001b[33m\"\u001b[39m\u001b[33mReduceLROnPlateau\u001b[39m\u001b[33m\"\u001b[39m:\n\u001b[32m     33\u001b[39m         scheduler.step(val_loss)\n",
      "\u001b[36mFile \u001b[39m\u001b[32m~/Documents/EDL/utils.py:131\u001b[39m, in \u001b[36mtest\u001b[39m\u001b[34m(test_loader, net, criterion, device, half)\u001b[39m\n\u001b[32m    128\u001b[39m outputs = net(inputs)\n\u001b[32m    129\u001b[39m loss = criterion(outputs, targets)\n\u001b[32m--> \u001b[39m\u001b[32m131\u001b[39m test_loss += \u001b[43mloss\u001b[49m\u001b[43m.\u001b[49m\u001b[43mitem\u001b[49m\u001b[43m(\u001b[49m\u001b[43m)\u001b[49m\n\u001b[32m    132\u001b[39m _, predicted = outputs.max(\u001b[32m1\u001b[39m)\n\u001b[32m    133\u001b[39m total += targets.size(\u001b[32m0\u001b[39m)\n",
      "\u001b[31mKeyboardInterrupt\u001b[39m: "
     ]
    }
   ],
   "source": []
  },
  {
   "cell_type": "code",
   "execution_count": 36,
   "id": "69686c45",
   "metadata": {},
   "outputs": [],
   "source": [
    "import torch.optim"
   ]
  },
  {
   "cell_type": "code",
   "execution_count": null,
   "id": "fcdc57b2",
   "metadata": {},
   "outputs": [],
   "source": []
  },
  {
   "cell_type": "code",
   "execution_count": null,
   "id": "d7572b28",
   "metadata": {},
   "outputs": [],
   "source": []
  }
 ],
 "metadata": {
  "kernelspec": {
   "display_name": ".venv",
   "language": "python",
   "name": "python3"
  },
  "language_info": {
   "codemirror_mode": {
    "name": "ipython",
    "version": 3
   },
   "file_extension": ".py",
   "mimetype": "text/x-python",
   "name": "python",
   "nbconvert_exporter": "python",
   "pygments_lexer": "ipython3",
   "version": "3.12.3"
  }
 },
 "nbformat": 4,
 "nbformat_minor": 5
}
