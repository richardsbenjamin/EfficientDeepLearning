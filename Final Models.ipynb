{
 "cells": [
  {
   "cell_type": "code",
   "execution_count": 22,
   "id": "145b8c49",
   "metadata": {},
   "outputs": [],
   "source": [
    "import torch\n",
    "\n",
    "from factorisation import model_functions\n",
    "from factorisation.densenet import get_student_densenet\n",
    "from utils import calculate_score, count_nonzero_parameters, get_device, get_macs, load_trained_model"
   ]
  },
  {
   "cell_type": "code",
   "execution_count": 11,
   "id": "01a29c81",
   "metadata": {},
   "outputs": [],
   "source": [
    "og_model, _ = load_trained_model()"
   ]
  },
  {
   "cell_type": "code",
   "execution_count": 17,
   "id": "a46ba7d2",
   "metadata": {},
   "outputs": [],
   "source": [
    "device = get_device()\n",
    "PARAMS_REF, OPS_REF = count_nonzero_parameters(og_model), get_macs(og_model)"
   ]
  },
  {
   "cell_type": "markdown",
   "id": "7cf58a3a",
   "metadata": {},
   "source": [
    "## Grouped1"
   ]
  },
  {
   "cell_type": "code",
   "execution_count": 18,
   "id": "afd23fbc",
   "metadata": {},
   "outputs": [
    {
     "data": {
      "text/plain": [
       "89.38"
      ]
     },
     "execution_count": 18,
     "metadata": {},
     "output_type": "execute_result"
    }
   ],
   "source": [
    "res = torch.load(\"train_checkpoint/model_train_grouped1.pth\")\n",
    "model_grouped1 = model_functions[\"grouped1\"]()\n",
    "model_grouped1.load_state_dict(res[\"net\"])\n",
    "model_grouped1.to(device)\n",
    "res[\"acc\"]"
   ]
  },
  {
   "cell_type": "code",
   "execution_count": 20,
   "id": "9a26f1e0",
   "metadata": {},
   "outputs": [
    {
     "data": {
      "text/plain": [
       "0.2741027616875071"
      ]
     },
     "execution_count": 20,
     "metadata": {},
     "output_type": "execute_result"
    }
   ],
   "source": [
    "w_g1, f_g1 = count_nonzero_parameters(model_grouped1), get_macs(model_grouped1)\n",
    "\n",
    "score_g1 = calculate_score(\n",
    "    0, 0, 32, 32, w_g1, f_g1, PARAMS_REF, OPS_REF,\n",
    ")\n",
    "score_g1"
   ]
  },
  {
   "cell_type": "markdown",
   "id": "a46da6ea",
   "metadata": {},
   "source": [
    "## Grouped 2"
   ]
  },
  {
   "cell_type": "code",
   "execution_count": 21,
   "id": "68dfea5d",
   "metadata": {},
   "outputs": [
    {
     "ename": "FileNotFoundError",
     "evalue": "[Errno 2] No such file or directory: 'train_checkpoint/model_train_grouped2.pth'",
     "output_type": "error",
     "traceback": [
      "\u001b[31m---------------------------------------------------------------------------\u001b[39m",
      "\u001b[31mFileNotFoundError\u001b[39m                         Traceback (most recent call last)",
      "\u001b[36mCell\u001b[39m\u001b[36m \u001b[39m\u001b[32mIn[21]\u001b[39m\u001b[32m, line 1\u001b[39m\n\u001b[32m----> \u001b[39m\u001b[32m1\u001b[39m res = \u001b[43mtorch\u001b[49m\u001b[43m.\u001b[49m\u001b[43mload\u001b[49m\u001b[43m(\u001b[49m\u001b[33;43m\"\u001b[39;49m\u001b[33;43mtrain_checkpoint/model_train_grouped2.pth\u001b[39;49m\u001b[33;43m\"\u001b[39;49m\u001b[43m)\u001b[49m\n\u001b[32m      2\u001b[39m model_grouped2 = model_functions[\u001b[33m\"\u001b[39m\u001b[33mgrouped2\u001b[39m\u001b[33m\"\u001b[39m]()\n\u001b[32m      3\u001b[39m model_grouped2.load_state_dict(res[\u001b[33m\"\u001b[39m\u001b[33mnet\u001b[39m\u001b[33m\"\u001b[39m])\n",
      "\u001b[36mFile \u001b[39m\u001b[32m/users/local/b24richa/EfficientDeepLearning/.venv/lib/python3.12/site-packages/torch/serialization.py:1479\u001b[39m, in \u001b[36mload\u001b[39m\u001b[34m(f, map_location, pickle_module, weights_only, mmap, **pickle_load_args)\u001b[39m\n\u001b[32m   1476\u001b[39m \u001b[38;5;28;01mif\u001b[39;00m \u001b[33m\"\u001b[39m\u001b[33mencoding\u001b[39m\u001b[33m\"\u001b[39m \u001b[38;5;129;01mnot\u001b[39;00m \u001b[38;5;129;01min\u001b[39;00m pickle_load_args.keys():\n\u001b[32m   1477\u001b[39m     pickle_load_args[\u001b[33m\"\u001b[39m\u001b[33mencoding\u001b[39m\u001b[33m\"\u001b[39m] = \u001b[33m\"\u001b[39m\u001b[33mutf-8\u001b[39m\u001b[33m\"\u001b[39m\n\u001b[32m-> \u001b[39m\u001b[32m1479\u001b[39m \u001b[38;5;28;01mwith\u001b[39;00m \u001b[43m_open_file_like\u001b[49m\u001b[43m(\u001b[49m\u001b[43mf\u001b[49m\u001b[43m,\u001b[49m\u001b[43m \u001b[49m\u001b[33;43m\"\u001b[39;49m\u001b[33;43mrb\u001b[39;49m\u001b[33;43m\"\u001b[39;49m\u001b[43m)\u001b[49m \u001b[38;5;28;01mas\u001b[39;00m opened_file:\n\u001b[32m   1480\u001b[39m     \u001b[38;5;28;01mif\u001b[39;00m _is_zipfile(opened_file):\n\u001b[32m   1481\u001b[39m         \u001b[38;5;66;03m# The zipfile reader is going to advance the current file position.\u001b[39;00m\n\u001b[32m   1482\u001b[39m         \u001b[38;5;66;03m# If we want to actually tail call to torch.jit.load, we need to\u001b[39;00m\n\u001b[32m   1483\u001b[39m         \u001b[38;5;66;03m# reset back to the original position.\u001b[39;00m\n\u001b[32m   1484\u001b[39m         orig_position = opened_file.tell()\n",
      "\u001b[36mFile \u001b[39m\u001b[32m/users/local/b24richa/EfficientDeepLearning/.venv/lib/python3.12/site-packages/torch/serialization.py:759\u001b[39m, in \u001b[36m_open_file_like\u001b[39m\u001b[34m(name_or_buffer, mode)\u001b[39m\n\u001b[32m    757\u001b[39m \u001b[38;5;28;01mdef\u001b[39;00m\u001b[38;5;250m \u001b[39m\u001b[34m_open_file_like\u001b[39m(name_or_buffer: FileLike, mode: \u001b[38;5;28mstr\u001b[39m) -> _opener[IO[\u001b[38;5;28mbytes\u001b[39m]]:\n\u001b[32m    758\u001b[39m     \u001b[38;5;28;01mif\u001b[39;00m _is_path(name_or_buffer):\n\u001b[32m--> \u001b[39m\u001b[32m759\u001b[39m         \u001b[38;5;28;01mreturn\u001b[39;00m \u001b[43m_open_file\u001b[49m\u001b[43m(\u001b[49m\u001b[43mname_or_buffer\u001b[49m\u001b[43m,\u001b[49m\u001b[43m \u001b[49m\u001b[43mmode\u001b[49m\u001b[43m)\u001b[49m\n\u001b[32m    760\u001b[39m     \u001b[38;5;28;01melse\u001b[39;00m:\n\u001b[32m    761\u001b[39m         \u001b[38;5;28;01mif\u001b[39;00m \u001b[33m\"\u001b[39m\u001b[33mw\u001b[39m\u001b[33m\"\u001b[39m \u001b[38;5;129;01min\u001b[39;00m mode:\n",
      "\u001b[36mFile \u001b[39m\u001b[32m/users/local/b24richa/EfficientDeepLearning/.venv/lib/python3.12/site-packages/torch/serialization.py:740\u001b[39m, in \u001b[36m_open_file.__init__\u001b[39m\u001b[34m(self, name, mode)\u001b[39m\n\u001b[32m    739\u001b[39m \u001b[38;5;28;01mdef\u001b[39;00m\u001b[38;5;250m \u001b[39m\u001b[34m__init__\u001b[39m(\u001b[38;5;28mself\u001b[39m, name: Union[\u001b[38;5;28mstr\u001b[39m, os.PathLike[\u001b[38;5;28mstr\u001b[39m]], mode: \u001b[38;5;28mstr\u001b[39m) -> \u001b[38;5;28;01mNone\u001b[39;00m:\n\u001b[32m--> \u001b[39m\u001b[32m740\u001b[39m     \u001b[38;5;28msuper\u001b[39m().\u001b[34m__init__\u001b[39m(\u001b[38;5;28;43mopen\u001b[39;49m\u001b[43m(\u001b[49m\u001b[43mname\u001b[49m\u001b[43m,\u001b[49m\u001b[43m \u001b[49m\u001b[43mmode\u001b[49m\u001b[43m)\u001b[49m)\n",
      "\u001b[31mFileNotFoundError\u001b[39m: [Errno 2] No such file or directory: 'train_checkpoint/model_train_grouped2.pth'"
     ]
    }
   ],
   "source": [
    "res = torch.load(\"train_checkpoint/model_train_grouped2.pth\")\n",
    "model_grouped2 = model_functions[\"grouped2\"]()\n",
    "model_grouped2.load_state_dict(res[\"net\"])\n",
    "model_grouped2.to(device)\n",
    "res[\"acc\"]"
   ]
  },
  {
   "cell_type": "code",
   "execution_count": null,
   "id": "0f4cf0a9",
   "metadata": {},
   "outputs": [],
   "source": [
    "w_g2, f_g2 = count_nonzero_parameters(model_grouped2), get_macs(model_grouped2)\n",
    "\n",
    "score_g2 = calculate_score(\n",
    "    0, 0, 32, 32, w_g2, f_g2, PARAMS_REF, OPS_REF,\n",
    ")\n",
    "score_g2"
   ]
  },
  {
   "cell_type": "markdown",
   "id": "47ad6ffa",
   "metadata": {},
   "source": [
    "## Distillation DensetNet 24"
   ]
  },
  {
   "cell_type": "code",
   "execution_count": 23,
   "id": "6211aa1f",
   "metadata": {},
   "outputs": [
    {
     "data": {
      "text/plain": [
       "91.32"
      ]
     },
     "execution_count": 23,
     "metadata": {},
     "output_type": "execute_result"
    }
   ],
   "source": [
    "res = torch.load(\"train_checkpoint/model_distill_train_student_size_24.pth\")\n",
    "model_24 = get_student_densenet()\n",
    "model_24.load_state_dict(res[\"net\"])\n",
    "model_24.to(device)\n",
    "res[\"acc\"]"
   ]
  },
  {
   "cell_type": "code",
   "execution_count": 41,
   "id": "2a717174",
   "metadata": {},
   "outputs": [
    {
     "data": {
      "text/plain": [
       "0.5807113214644466"
      ]
     },
     "execution_count": 41,
     "metadata": {},
     "output_type": "execute_result"
    }
   ],
   "source": [
    "w_24, f_24 = count_nonzero_parameters(model_24), get_macs(model_24)\n",
    "\n",
    "score_24 = calculate_score(\n",
    "    0, 0, 32, 32, w_24, f_24, PARAMS_REF, OPS_REF,\n",
    ")\n",
    "score_24"
   ]
  },
  {
   "cell_type": "markdown",
   "id": "3e474298",
   "metadata": {},
   "source": [
    "## Distillation DensetNet 32"
   ]
  },
  {
   "cell_type": "code",
   "execution_count": 26,
   "id": "ac1df092",
   "metadata": {},
   "outputs": [
    {
     "data": {
      "text/plain": [
       "91.71"
      ]
     },
     "execution_count": 26,
     "metadata": {},
     "output_type": "execute_result"
    }
   ],
   "source": [
    "res = torch.load(\"train_checkpoint/model_distill_train_student_size_32.pth\")\n",
    "model_32 = get_student_densenet(growth_rate=32)\n",
    "model_32.load_state_dict(res[\"net\"])\n",
    "model_32.to(device)\n",
    "res[\"acc\"]"
   ]
  },
  {
   "cell_type": "code",
   "execution_count": 35,
   "id": "a0b97ec8",
   "metadata": {},
   "outputs": [
    {
     "data": {
      "text/plain": [
       "1.0295309558005101"
      ]
     },
     "execution_count": 35,
     "metadata": {},
     "output_type": "execute_result"
    }
   ],
   "source": [
    "w_32, f_32 = count_nonzero_parameters(model_32), get_macs(model_32)\n",
    "\n",
    "score_32 = calculate_score(\n",
    "    0, 0, 32, 32, w_32, f_32, PARAMS_REF, OPS_REF,\n",
    ")\n",
    "score_32"
   ]
  },
  {
   "cell_type": "markdown",
   "id": "7758f297",
   "metadata": {},
   "source": [
    "## Distillation Grouped1"
   ]
  },
  {
   "cell_type": "code",
   "execution_count": 29,
   "id": "457d865a",
   "metadata": {},
   "outputs": [
    {
     "data": {
      "text/plain": [
       "89.73"
      ]
     },
     "execution_count": 29,
     "metadata": {},
     "output_type": "execute_result"
    }
   ],
   "source": [
    "res = torch.load(\"train_checkpoint/model_distill_train_grouped1.pth\")\n",
    "model_distill_g1 = model_functions[\"grouped1\"]()\n",
    "model_distill_g1.load_state_dict(res[\"net\"])\n",
    "model_distill_g1.to(device)\n",
    "res[\"acc\"]"
   ]
  },
  {
   "cell_type": "code",
   "execution_count": 37,
   "id": "71bcb099",
   "metadata": {},
   "outputs": [
    {
     "data": {
      "text/plain": [
       "0.2741027616875071"
      ]
     },
     "execution_count": 37,
     "metadata": {},
     "output_type": "execute_result"
    }
   ],
   "source": [
    "w_d_g1, f_d_g1 = count_nonzero_parameters(model_distill_g1), get_macs(model_distill_g1)\n",
    "\n",
    "score_d_g1 = calculate_score(\n",
    "    0, 0, 32, 32, w_d_g1, f_d_g1, PARAMS_REF, OPS_REF,\n",
    ")\n",
    "score_d_g1"
   ]
  },
  {
   "cell_type": "markdown",
   "id": "aae36e4f",
   "metadata": {},
   "source": [
    "## Distillation Grouped2"
   ]
  },
  {
   "cell_type": "code",
   "execution_count": 31,
   "id": "a0ee8813",
   "metadata": {},
   "outputs": [
    {
     "data": {
      "text/plain": [
       "91.6"
      ]
     },
     "execution_count": 31,
     "metadata": {},
     "output_type": "execute_result"
    }
   ],
   "source": [
    "res = torch.load(\"train_checkpoint/model_distill_train_grouped2.pth\")\n",
    "model_distill_g2 = model_functions[\"grouped2\"]()\n",
    "model_distill_g2.load_state_dict(res[\"net\"])\n",
    "model_distill_g2.to(device)\n",
    "res[\"acc\"]"
   ]
  },
  {
   "cell_type": "code",
   "execution_count": 33,
   "id": "1aebf60b",
   "metadata": {},
   "outputs": [
    {
     "data": {
      "text/plain": [
       "1.1211085941338397"
      ]
     },
     "execution_count": 33,
     "metadata": {},
     "output_type": "execute_result"
    }
   ],
   "source": [
    "w_d_g2, f_d_g2 = count_nonzero_parameters(model_distill_g2), get_macs(model_distill_g2)\n",
    "\n",
    "score_d_g2 = calculate_score(\n",
    "    0, 0, 32, 32, w_d_g2, f_d_g2, PARAMS_REF, OPS_REF,\n",
    ")\n",
    "score_d_g2"
   ]
  },
  {
   "cell_type": "code",
   "execution_count": null,
   "id": "d8895411",
   "metadata": {},
   "outputs": [],
   "source": []
  }
 ],
 "metadata": {
  "kernelspec": {
   "display_name": ".venv",
   "language": "python",
   "name": "python3"
  },
  "language_info": {
   "codemirror_mode": {
    "name": "ipython",
    "version": 3
   },
   "file_extension": ".py",
   "mimetype": "text/x-python",
   "name": "python",
   "nbconvert_exporter": "python",
   "pygments_lexer": "ipython3",
   "version": "3.12.3"
  }
 },
 "nbformat": 4,
 "nbformat_minor": 5
}
