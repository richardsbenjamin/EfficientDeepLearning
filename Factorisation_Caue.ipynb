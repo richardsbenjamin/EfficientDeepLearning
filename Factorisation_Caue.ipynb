{
 "cells": [
  {
   "cell_type": "code",
   "execution_count": 3,
   "id": "3e1421b5",
   "metadata": {},
   "outputs": [],
   "source": [
    "from utils import (\n",
    "    load_untrained_model,\n",
    "    count_nonzero_parameters\n",
    ")\n",
    "from factorisation.densenet import (\n",
    "    get_standard_densnet121,\n",
    "    get_increasing_grouped_densenet121,\n",
    "    get_transition_grouped_densenet121,\n",
    "    get_increasing_transition_grouped_densenet121,\n",
    "    get_increasing_mix_bottlenecks_densenet121\n",
    ")"
   ]
  },
  {
   "cell_type": "code",
   "execution_count": 10,
   "id": "f7439988",
   "metadata": {},
   "outputs": [],
   "source": [
    "model = get_increasing_grouped_densenet121()"
   ]
  },
  {
   "cell_type": "code",
   "execution_count": 11,
   "id": "d7e2d628",
   "metadata": {},
   "outputs": [
    {
     "name": "stdout",
     "output_type": "stream",
     "text": [
      "Original DenseNet121 (Mixed): 897,002 parameters\n"
     ]
    }
   ],
   "source": [
    "print(f\"Original DenseNet121 (Mixed): {count_nonzero_parameters(model):,} parameters\")"
   ]
  },
  {
   "cell_type": "code",
   "execution_count": null,
   "id": "5fb9d690",
   "metadata": {},
   "outputs": [],
   "source": []
  }
 ],
 "metadata": {
  "kernelspec": {
   "display_name": ".venv",
   "language": "python",
   "name": "python3"
  },
  "language_info": {
   "codemirror_mode": {
    "name": "ipython",
    "version": 3
   },
   "file_extension": ".py",
   "mimetype": "text/x-python",
   "name": "python",
   "nbconvert_exporter": "python",
   "pygments_lexer": "ipython3",
   "version": "3.12.3"
  }
 },
 "nbformat": 4,
 "nbformat_minor": 5
}
