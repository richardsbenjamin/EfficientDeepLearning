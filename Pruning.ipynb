{
 "cells": [
  {
   "cell_type": "code",
   "execution_count": 1,
   "id": "062b681c",
   "metadata": {},
   "outputs": [],
   "source": [
    "from copy import deepcopy\n",
    "\n",
    "from models import DenseNet121\n",
    "\n",
    "from numpy import linspace\n",
    "import matplotlib.pyplot as plt\n",
    "import torch\n",
    "import torch.nn as nn\n",
    "import torch.nn.utils.prune as prune\n",
    "import torch.optim as optim"
   ]
  },
  {
   "cell_type": "markdown",
   "id": "11e4a783",
   "metadata": {},
   "source": [
    "### ALL COMMMENTS WITH '##' ARE MINE AND NOT CHAT GPT"
   ]
  },
  {
   "cell_type": "code",
   "execution_count": 13,
   "id": "bc8d3da6",
   "metadata": {},
   "outputs": [],
   "source": [
    "\n",
    "def get_macs(model, input_size=(1, 3, 32, 32), device: str = \"cuda\", half: bool = False):\n",
    "    macs = 0\n",
    "    dummy_input = torch.randn(*input_size).to(device)\n",
    "\n",
    "    def conv_hook(module, input, output):\n",
    "        nonlocal macs\n",
    "        if isinstance(module, nn.Conv2d):\n",
    "            batch_size, out_channels, out_h, out_w = output.shape\n",
    "            in_channels, _, kernel_h, kernel_w = module.weight.shape\n",
    "\n",
    "            layer_macs = out_h * out_w * out_channels * kernel_h * kernel_w * in_channels\n",
    "            macs += layer_macs\n",
    "\n",
    "    def linear_hook(module, input, output):\n",
    "        nonlocal macs\n",
    "        if isinstance(module, nn.Linear):\n",
    "            in_features, out_features = module.weight.shape\n",
    "            layer_macs = in_features * out_features\n",
    "            macs += layer_macs\n",
    "\n",
    "    hooks = []\n",
    "    for layer in model.children():\n",
    "        if isinstance(layer, (nn.Conv2d, nn.Linear)):\n",
    "            hook = layer.register_forward_hook(conv_hook if isinstance(layer, nn.Conv2d) else linear_hook)\n",
    "            hooks.append(hook)\n",
    "\n",
    "    if half:\n",
    "        dummy_input = dummy_input.half()\n",
    "    model(dummy_input)\n",
    "\n",
    "    for hook in hooks:\n",
    "        hook.remove()\n",
    "\n",
    "    return macs\n",
    "\n",
    "def calculate_score(p_s, p_u, q_w, q_a, w, f, param_ref, ops_ref):\n",
    "    param_score = ((1 - (p_s + p_u)) * (q_w / 32) * w) / param_ref\n",
    "    ops_score = ((1 - p_s) * (max(q_w, q_a) / 32) * f) / ops_ref\n",
    "    return param_score + ops_score\n"
   ]
  },
  {
   "cell_type": "code",
   "execution_count": 3,
   "id": "8f0a4da6",
   "metadata": {},
   "outputs": [],
   "source": [
    "from utils import get_train_cifar10_dataloader, get_test_cifar10_dataloader, run_epochs, get_hyperparams, test\n",
    "\n",
    "trainloader = get_train_cifar10_dataloader()\n",
    "testloader = get_test_cifar10_dataloader()"
   ]
  },
  {
   "cell_type": "code",
   "execution_count": 4,
   "id": "f29ec2a3",
   "metadata": {},
   "outputs": [],
   "source": [
    "from utils import load_trained_model, count_nonzero_parameters, run_global_pruning"
   ]
  },
  {
   "cell_type": "code",
   "execution_count": 47,
   "id": "f61a5df5",
   "metadata": {},
   "outputs": [],
   "source": [
    "model, og_acc = load_trained_model()"
   ]
  },
  {
   "cell_type": "code",
   "execution_count": 45,
   "id": "8e3dc57f",
   "metadata": {},
   "outputs": [],
   "source": [
    "params_ref = count_nonzero_parameters(model)\n",
    "ops_ref = get_macs(model)"
   ]
  },
  {
   "cell_type": "markdown",
   "id": "c5a45b8d",
   "metadata": {},
   "source": [
    "## Global Pruning"
   ]
  },
  {
   "cell_type": "code",
   "execution_count": 48,
   "id": "d23ac969",
   "metadata": {},
   "outputs": [],
   "source": [
    "prune_amounts = linspace(0.1, 1, 10)\n",
    "no_quant_glob_prun_scores = []\n",
    "for amount in prune_amounts[:-1]:\n",
    "    pruning_model = deepcopy(model)\n",
    "    n_params, acc = run_global_pruning(pruning_model, testloader, amount)\n",
    "    score = calculate_score(\n",
    "        0, 1 - (n_params / params_ref), 32, 32, n_params, get_macs(pruning_model), params_ref, ops_ref\n",
    "    )\n",
    "    no_quant_glob_prun_scores.append((score, acc))"
   ]
  },
  {
   "cell_type": "code",
   "execution_count": 50,
   "id": "f93e5608",
   "metadata": {},
   "outputs": [
    {
     "data": {
      "text/plain": [
       "[(1.8121627983238828, 90.38),\n",
       " (1.643848178818579, 90.4),\n",
       " (1.4950563437762647, 90.13),\n",
       " (1.3657868602068894, 88.96),\n",
       " (1.2560399588083273, 81.44),\n",
       " (1.1658156395805779, 30.66),\n",
       " (1.0951139025236416, 15.49),\n",
       " (1.0439348079012516, 11.89),\n",
       " (1.012278206780244, 10.0)]"
      ]
     },
     "execution_count": 50,
     "metadata": {},
     "output_type": "execute_result"
    }
   ],
   "source": [
    "no_quant_glob_prun_scores"
   ]
  },
  {
   "cell_type": "code",
   "execution_count": 32,
   "id": "4e28af03",
   "metadata": {},
   "outputs": [],
   "source": [
    "model = model.half()"
   ]
  },
  {
   "cell_type": "code",
   "execution_count": 35,
   "id": "ce6b9f63",
   "metadata": {},
   "outputs": [],
   "source": [
    "from utils import global_pruning"
   ]
  },
  {
   "cell_type": "code",
   "execution_count": 33,
   "id": "5147fc35",
   "metadata": {},
   "outputs": [],
   "source": [
    "acc, _ = test(testloader, model, half=True)"
   ]
  },
  {
   "cell_type": "code",
   "execution_count": 38,
   "id": "73a4c700",
   "metadata": {},
   "outputs": [],
   "source": [
    "global_pruning(model, amount=0.1)\n",
    "acc, _ = test(testloader, model, half=True)"
   ]
  },
  {
   "cell_type": "code",
   "execution_count": 41,
   "id": "4f1e9632",
   "metadata": {},
   "outputs": [
    {
     "data": {
      "text/plain": [
       "6956297"
      ]
     },
     "execution_count": 41,
     "metadata": {},
     "output_type": "execute_result"
    }
   ],
   "source": [
    "count_nonzero_parameters(model)"
   ]
  },
  {
   "cell_type": "code",
   "execution_count": null,
   "id": "f69acce7",
   "metadata": {},
   "outputs": [],
   "source": [
    "half_quant_glob_prun_res = []\n",
    "for amount in prune_amounts[:-1]:\n",
    "    unpruned = deepcopy(model)\n",
    "    n_params, acc = run_global_pruning(unpruned, testloader, amount, half=True)\n",
    "    score = calculate_score(\n",
    "        0, 1 - (n_params / params_ref), 16, 16, n_params, get_macs(model, half=True), params_ref, ops_ref\n",
    "    )\n",
    "    half_quant_glob_prun_res.append((score, acc))"
   ]
  },
  {
   "cell_type": "code",
   "execution_count": null,
   "id": "c003c5ca",
   "metadata": {},
   "outputs": [],
   "source": [
    "no_quant_glob_prun = {\n",
    "    \"no_quant_glob_prun\": no_quant_glob_prun_scores\n",
    "}"
   ]
  },
  {
   "cell_type": "code",
   "execution_count": 47,
   "id": "6d6b337e",
   "metadata": {},
   "outputs": [
    {
     "data": {
      "text/plain": [
       "{'no_quant_glob_prun': ((0.05663008744762134, 89.0),\n",
       "  (0.051370255588080595, 89.08),\n",
       "  (0.04672051074300827, 88.48),\n",
       "  (0.042680839381465295, 87.42),\n",
       "  (0.03925124871276023, 80.11),\n",
       "  (0.03643173873689306, 35.64),\n",
       "  (0.0342223094538638, 15.38),\n",
       "  (0.03262296274691411, 12.42),\n",
       "  (0.03163369396188263, 11.34),\n",
       "  (0.0625, 90.44))}"
      ]
     },
     "execution_count": 47,
     "metadata": {},
     "output_type": "execute_result"
    }
   ],
   "source": [
    "no_quant_glob_prun"
   ]
  },
  {
   "cell_type": "code",
   "execution_count": 17,
   "id": "b94eb553",
   "metadata": {},
   "outputs": [
    {
     "data": {
      "text/plain": [
       "[(0.05663008744762134, 41.4),\n",
       " (0.051370255588080595, 36.87),\n",
       " (0.04672051074300827, 30.81),\n",
       " (0.042680839381465295, 29.5),\n",
       " (0.03925124871276023, 21.53),\n",
       " (0.03643173873689306, 15.89),\n",
       " (0.0342223094538638, 16.35),\n",
       " (0.03262296274691411, 10.66),\n",
       " (0.03163369396188263, 10.0)]"
      ]
     },
     "execution_count": 17,
     "metadata": {},
     "output_type": "execute_result"
    }
   ],
   "source": [
    "half_quant_glob_prun_res"
   ]
  },
  {
   "cell_type": "code",
   "execution_count": 97,
   "id": "cd38edc1",
   "metadata": {},
   "outputs": [
    {
     "data": {
      "text/plain": [
       "<matplotlib.collections.PathCollection at 0x7f38c0e0f650>"
      ]
     },
     "execution_count": 97,
     "metadata": {},
     "output_type": "execute_result"
    },
    {
     "data": {
      "image/png": "[encoded data removed]",
      "text/plain": [
       "<Figure size 640x480 with 1 Axes>"
      ]
     },
     "metadata": {},
     "output_type": "display_data"
    }
   ],
   "source": [
    "x = [r[0] for r in res]\n",
    "y = [r[1] for r in res]\n",
    "plt.scatter([*prune_amounts[:-1], 0], y)"
   ]
  },
  {
   "cell_type": "code",
   "execution_count": 235,
   "id": "d3ecb5c7",
   "metadata": {},
   "outputs": [],
   "source": [
    "\n",
    "def zero_out_pruned_filters(model, prune_ratio):\n",
    "    for name, module in model.named_modules():\n",
    "        if isinstance(module, (nn.Conv2d, nn.Linear)):  \n",
    "            weight = module.weight.data\n",
    "            if weight is None:\n",
    "                continue\n",
    "\n",
    "            if hasattr(module, '_pruned_filters'):\n",
    "                pruned_filters = module._pruned_filters\n",
    "            else:\n",
    "                pruned_filters = []\n",
    "\n",
    "            remaining_filters = set(range(weight.shape[0])) - set(pruned_filters)\n",
    "            if not remaining_filters:\n",
    "                continue\n",
    "            remaining_filters = list(remaining_filters)\n",
    "            filter_norms = weight[remaining_filters].abs().sum(dim=(1, 2, 3) if isinstance(module, nn.Conv2d) else (1,))\n",
    "\n",
    "            _, sorted_indices = torch.sort(filter_norms)\n",
    "\n",
    "            num_filters_to_prune = int(prune_ratio * len(remaining_filters))\n",
    "\n",
    "            filters_to_zero = sorted_indices[:num_filters_to_prune]\n",
    "            filters_to_zero = [remaining_filters[idx] for idx in filters_to_zero]\n",
    "            weight[filters_to_zero] = 0\n",
    "            module._pruned_filters = pruned_filters + filters_to_zero\n",
    "            \n",
    "    return model"
   ]
  },
  {
   "cell_type": "code",
   "execution_count": null,
   "id": "cd91280a",
   "metadata": {},
   "outputs": [],
   "source": [
    "acc = 100.\n",
    "n_epochs = 30\n",
    "prune_ratios = [0.2, 0.3, 0.4]\n",
    "\n",
    "train_transforms = get_best_transformations()\n",
    "train_loader, val_loader = get_cifar10_train_val_loaders(transform=train_transforms)\n",
    "test_loader = get_test_cifar10_dataloader()\n",
    "\n",
    "model, _ = load_trained_model()\n",
    "train_details = load_untrained_model(\"DenseNet121\")\n",
    "\n",
    "res = {}\n",
    "for prune_ratio in prune_ratios:\n",
    "\n",
    "    pruning_model = deepcopy(model)\n",
    "\n",
    "    prune_track = []\n",
    "\n",
    "    while acc > 85:\n",
    "        pruning_model = zero_out_pruned_filters(pruning_model, prune_ratio=prune_ratio)\n",
    "        params = count_nonzero_parameters(model)\n",
    "\n",
    "        _, _, _ = run_epochs(\n",
    "            pruning_model,\n",
    "            train_loader,\n",
    "            val_loader,\n",
    "            train_details,\n",
    "            n_epochs=n_epochs,\n",
    "        )\n",
    "\n",
    "        acc, _ = test(\n",
    "            test_loader,\n",
    "            pruning_model,\n",
    "        )\n",
    "\n",
    "        prune_track.append(\n",
    "            (params, acc)\n",
    "        )\n",
    "\n",
    "    res[prune_ratio] = prune_track\n"
   ]
  },
  {
   "cell_type": "code",
   "execution_count": null,
   "id": "3ab3525e",
   "metadata": {},
   "outputs": [],
   "source": []
  },
  {
   "cell_type": "code",
   "execution_count": null,
   "id": "545e856b",
   "metadata": {},
   "outputs": [
    {
     "data": {
      "text/plain": [
       "613590"
      ]
     },
     "execution_count": 234,
     "metadata": {},
     "output_type": "execute_result"
    }
   ],
   "source": []
  },
  {
   "cell_type": "code",
   "execution_count": null,
   "id": "b55699de",
   "metadata": {},
   "outputs": [],
   "source": [
    " # Zero out 30% of filters"
   ]
  },
  {
   "cell_type": "code",
   "execution_count": null,
   "id": "032d6273",
   "metadata": {},
   "outputs": [],
   "source": []
  },
  {
   "cell_type": "code",
   "execution_count": null,
   "id": "de7ad2fb",
   "metadata": {},
   "outputs": [],
   "source": [
    "import torch\n",
    "import torch.nn as nn\n",
    "import torch.nn.functional as F\n",
    "import torch.nn.utils.prune as prune\n",
    "import torch.optim as optim\n",
    "from models import VGG\n",
    "\n",
    "\n",
    "\n",
    "\n",
    "\n",
    "\n",
    "\n",
    "# === Pruning Methods ===\n",
    "\n",
    "# 1. Global Pruning, no retrain\n",
    "## CAUE - There is nothing special here, just applying the pruning function to the model\n",
    "\n",
    "\n",
    "# 2. Global Pruning + Retrain\n",
    "## CAUE - The same as the previous one, but retraining the model after the pruning\n",
    "def method2_global_pruning_with_retrain(model, trainloader, testloader):\n",
    "    print(\"\\n=== Method 2: Global Pruning with Retrain ===\")\n",
    "\n",
    "    apply_global_pruning(model, amount=0.3)\n",
    "\n",
    "    acc, _, _ = run_epochs(\n",
    "        model,\n",
    "        train_loader=trainloader,\n",
    "        test_loader=testloader,\n",
    "        hyperparams=HYPERPARAMS,\n",
    "        n_epochs=1,\n",
    "    )\n",
    "\n",
    "    params = count_nonzero_parameters(model)\n",
    "    print(f\"Accuracy after retrain: {acc:.2f}% | Parameters: {params}\")\n",
    "\n",
    "    remove_pruning(model)\n",
    "\n",
    "# 3. Gradual Pruning por etapas + Retrain\n",
    "## CAUE - What I understood from this one was that we apply the pruning many times (steps)\n",
    "## It is possible to change the pruning ratio in each step if we want\n",
    "def method3_gradual_pruning(model, trainloader, testloader):\n",
    "    print(\"\\n=== Method 3: Gradual Pruning + Retrain ===\")\n",
    "    \n",
    "    total_steps = 3\n",
    "    pruning_amount_per_step = 0.1\n",
    "\n",
    "    for step in range(total_steps):\n",
    "        print(f\"\\n-- Step {step+1}/{total_steps} --\")\n",
    "        apply_global_pruning(model, amount=pruning_amount_per_step)\n",
    "\n",
    "        acc, _, _ = run_epochs(\n",
    "            model,\n",
    "            train_loader=trainloader,\n",
    "            test_loader=testloader,\n",
    "            hyperparams=HYPERPARAMS,\n",
    "            n_epochs=1, \n",
    "        )\n",
    "\n",
    "        params = count_nonzero_parameters(model)\n",
    "        print(f\"Accuracy: {acc:.2f}% | Parameters: {params}\")\n",
    "\n",
    "    remove_pruning(model)\n",
    "\n",
    "# 4. ThiNet\n",
    "## CAUE - This one I've looked up and I found an article that describes the state of art\n",
    "## The article can be found in here: https://arxiv.org/abs/1707.06342\n",
    "## As far what I've read, it uses the L2 norm to discard the whole filter if it is considered not important\n",
    "## and not the individual weight like how we have been doing\n",
    "def method4_thinet_style_pruning(model, trainloader, testloader):\n",
    "    print(\"\\n=== Method 4: ThiNet Style Pruning ===\")\n",
    "    \n",
    "    def prune_by_feature_map_norm(model, amount=0.3):\n",
    "        for module in model.modules():\n",
    "            if isinstance(module, nn.Conv2d):\n",
    "                weight = module.weight.detach()\n",
    "                filter_norms = weight.view(weight.size(0), -1).norm(2, dim=1)\n",
    "                num_filters_to_prune = int(amount * weight.size(0))\n",
    "                prune_idx = filter_norms.argsort()[:num_filters_to_prune]\n",
    "\n",
    "                mask = torch.ones(weight.size(0), device=weight.device)\n",
    "                mask[prune_idx] = 0\n",
    "\n",
    "                mask = mask[:, None, None, None]\n",
    "                module.weight.data.mul_(mask)\n",
    "\n",
    "    prune_by_feature_map_norm(model, amount=0.3)\n",
    "\n",
    "    acc, _, _ = run_epochs(\n",
    "        model,\n",
    "        train_loader=trainloader,\n",
    "        test_loader=testloader,\n",
    "        hyperparams=HYPERPARAMS,\n",
    "        n_epochs=1,\n",
    "    )\n",
    "\n",
    "    params = count_nonzero_parameters(model)\n",
    "    print(f\"Accuracy after ThiNet pruning + retrain: {acc:.2f}% | Parameters: {params}\")"
   ]
  },
  {
   "cell_type": "code",
   "execution_count": null,
   "id": "e5b82b60",
   "metadata": {},
   "outputs": [
    {
     "name": "stdout",
     "output_type": "stream",
     "text": [
      "Accuracy before pruning: 10.00%\n",
      "\n",
      "=== Method 1: Global Pruning without Retrain ===\n",
      "Accuracy: 10.00% | Parameters: 20035016\n",
      "\n",
      "=== Method 2: Global Pruning with Retrain ===\n",
      "Epoch: 0\n",
      "Saving..\n",
      "Accuracy after retrain: 58.93% | Parameters: 14033322\n",
      "\n",
      "=== Method 3: Gradual Pruning + Retrain ===\n",
      "\n",
      "-- Step 1/3 --\n",
      "Epoch: 0\n",
      "Saving..\n",
      "Accuracy: 71.93% | Parameters: 17954449\n",
      "\n",
      "-- Step 2/3 --\n",
      "Epoch: 0\n",
      "Saving..\n",
      "Accuracy: 74.17% | Parameters: 17954449\n",
      "\n",
      "-- Step 3/3 --\n",
      "Epoch: 0\n",
      "Saving..\n",
      "Accuracy: 80.17% | Parameters: 17954449\n",
      "\n",
      "=== Method 4: ThiNet Style Pruning ===\n"
     ]
    },
    {
     "ename": "RuntimeError",
     "evalue": "Expected all tensors to be on the same device, but found at least two devices, cuda:0 and cpu!",
     "output_type": "error",
     "traceback": [
      "\u001b[31m---------------------------------------------------------------------------\u001b[39m",
      "\u001b[31mRuntimeError\u001b[39m                              Traceback (most recent call last)",
      "\u001b[36mCell\u001b[39m\u001b[36m \u001b[39m\u001b[32mIn[42]\u001b[39m\u001b[32m, line 14\u001b[39m\n\u001b[32m     12\u001b[39m method2_global_pruning_with_retrain(model, trainloader, testloader)\n\u001b[32m     13\u001b[39m method3_gradual_pruning(model, trainloader, testloader)\n\u001b[32m---> \u001b[39m\u001b[32m14\u001b[39m \u001b[43mmethod4_thinet_style_pruning\u001b[49m\u001b[43m(\u001b[49m\u001b[43mmodel\u001b[49m\u001b[43m,\u001b[49m\u001b[43m \u001b[49m\u001b[43mtrainloader\u001b[49m\u001b[43m,\u001b[49m\u001b[43m \u001b[49m\u001b[43mtestloader\u001b[49m\u001b[43m)\u001b[49m\n",
      "\u001b[36mCell\u001b[39m\u001b[36m \u001b[39m\u001b[32mIn[31]\u001b[39m\u001b[32m, line 109\u001b[39m, in \u001b[36mmethod4_thinet_style_pruning\u001b[39m\u001b[34m(model, trainloader, testloader)\u001b[39m\n\u001b[32m    106\u001b[39m             mask = mask[:, \u001b[38;5;28;01mNone\u001b[39;00m, \u001b[38;5;28;01mNone\u001b[39;00m, \u001b[38;5;28;01mNone\u001b[39;00m]\n\u001b[32m    107\u001b[39m             module.weight.data.mul_(mask)\n\u001b[32m--> \u001b[39m\u001b[32m109\u001b[39m \u001b[43mprune_by_feature_map_norm\u001b[49m\u001b[43m(\u001b[49m\u001b[43mmodel\u001b[49m\u001b[43m,\u001b[49m\u001b[43m \u001b[49m\u001b[43mamount\u001b[49m\u001b[43m=\u001b[49m\u001b[32;43m0.3\u001b[39;49m\u001b[43m)\u001b[49m\n\u001b[32m    111\u001b[39m acc, _, _ = run_epochs(\n\u001b[32m    112\u001b[39m     model,\n\u001b[32m    113\u001b[39m     train_loader=trainloader,\n\u001b[32m   (...)\u001b[39m\u001b[32m    116\u001b[39m     n_epochs=\u001b[32m1\u001b[39m,\n\u001b[32m    117\u001b[39m )\n\u001b[32m    119\u001b[39m params = count_nonzero_parameters(model)\n",
      "\u001b[36mCell\u001b[39m\u001b[36m \u001b[39m\u001b[32mIn[31]\u001b[39m\u001b[32m, line 107\u001b[39m, in \u001b[36mmethod4_thinet_style_pruning.<locals>.prune_by_feature_map_norm\u001b[39m\u001b[34m(model, amount)\u001b[39m\n\u001b[32m    104\u001b[39m mask[prune_idx] = \u001b[32m0\u001b[39m\n\u001b[32m    106\u001b[39m mask = mask[:, \u001b[38;5;28;01mNone\u001b[39;00m, \u001b[38;5;28;01mNone\u001b[39;00m, \u001b[38;5;28;01mNone\u001b[39;00m]\n\u001b[32m--> \u001b[39m\u001b[32m107\u001b[39m \u001b[43mmodule\u001b[49m\u001b[43m.\u001b[49m\u001b[43mweight\u001b[49m\u001b[43m.\u001b[49m\u001b[43mdata\u001b[49m\u001b[43m.\u001b[49m\u001b[43mmul_\u001b[49m\u001b[43m(\u001b[49m\u001b[43mmask\u001b[49m\u001b[43m)\u001b[49m\n",
      "\u001b[31mRuntimeError\u001b[39m: Expected all tensors to be on the same device, but found at least two devices, cuda:0 and cpu!"
     ]
    }
   ],
   "source": [
    "model = VGG(\"VGG19\").to(device)\n",
    "trainloader = get_train_cifar10_dataloader()\n",
    "testloader = get_test_cifar10_dataloader()\n",
    "\n",
    "## CAUE - I used your function to get the hyperparameters, but I changed the way the optimiser was defined\n",
    "## because the pickle returns it as a string\n",
    "HYPERPARAMS = get_hyperparams()\n",
    "HYPERPARAMS[\"criterion\"] = nn.CrossEntropyLoss()\n",
    "HYPERPARAMS[\"optimiser\"] = optim.AdamW(model.parameters(), lr=HYPERPARAMS['lr'], weight_decay=HYPERPARAMS['weight_decay'])\n",
    "\n",
    "acc_before, _ = test(testloader, model)\n",
    "print(f\"Accuracy before pruning: {acc_before:.2f}%\")\n",
    "\n",
    "method1_global_pruning_no_retrain(model, trainloader, testloader)\n",
    "method2_global_pruning_with_retrain(model, trainloader, testloader)\n",
    "method3_gradual_pruning(model, trainloader, testloader)\n",
    "#method4_thinet_style_pruning(model, trainloader, testloader)"
   ]
  },
  {
   "cell_type": "code",
   "execution_count": 45,
   "id": "38fd98ae",
   "metadata": {},
   "outputs": [
    {
     "name": "stdout",
     "output_type": "stream",
     "text": [
      "\n",
      "=== Method 4: ThiNet Style Pruning ===\n",
      "Epoch: 0\n",
      "Saving..\n",
      "Accuracy after ThiNet pruning + retrain: 79.81% | Parameters: 20019550\n"
     ]
    }
   ],
   "source": [
    "method4_thinet_style_pruning(model, trainloader, testloader)"
   ]
  },
  {
   "cell_type": "code",
   "execution_count": null,
   "id": "1942333e",
   "metadata": {},
   "outputs": [
    {
     "data": {
      "text/plain": [
       "25671"
      ]
     },
     "execution_count": 41,
     "metadata": {},
     "output_type": "execute_result"
    }
   ],
   "source": [
    "## CAUE - At some point I had to use this because I got a OutOfMemoryError when running the models\n",
    "import gc\n",
    "gc.collect()"
   ]
  }
 ],
 "metadata": {
  "kernelspec": {
   "display_name": ".venv",
   "language": "python",
   "name": "python3"
  },
  "language_info": {
   "codemirror_mode": {
    "name": "ipython",
    "version": 3
   },
   "file_extension": ".py",
   "mimetype": "text/x-python",
   "name": "python",
   "nbconvert_exporter": "python",
   "pygments_lexer": "ipython3",
   "version": "3.12.3"
  }
 },
 "nbformat": 4,
 "nbformat_minor": 5
}
