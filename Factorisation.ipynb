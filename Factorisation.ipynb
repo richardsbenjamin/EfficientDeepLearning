{
 "cells": [
  {
   "cell_type": "code",
   "execution_count": 12,
   "id": "3e1421b5",
   "metadata": {},
   "outputs": [],
   "source": [
    "from utils import count_nonzero_parameters, load_untrained_model"
   ]
  },
  {
   "cell_type": "code",
   "execution_count": 15,
   "id": "049f4949",
   "metadata": {},
   "outputs": [],
   "source": [
    "dict_ = load_untrained_model(\"DenseNet121\")\n",
    "model = dict_[\"model\"]"
   ]
  },
  {
   "cell_type": "code",
   "execution_count": null,
   "id": "ad8c5351",
   "metadata": {},
   "outputs": [
    {
     "data": {
      "text/plain": [
       "6914538"
      ]
     },
     "execution_count": 16,
     "metadata": {},
     "output_type": "execute_result"
    }
   ],
   "source": []
  },
  {
   "cell_type": "code",
   "execution_count": 1,
   "id": "95edcfab",
   "metadata": {},
   "outputs": [],
   "source": [
    "import pickle\n",
    "\n",
    "with open(\"train_results_increasing_grouped_densenet121.pkl\", \"rb\") as f:\n",
    "    res = pickle.load(f)"
   ]
  },
  {
   "cell_type": "code",
   "execution_count": 13,
   "id": "bfcf3f3e",
   "metadata": {},
   "outputs": [
    {
     "data": {
      "text/plain": [
       "897002"
      ]
     },
     "execution_count": 13,
     "metadata": {},
     "output_type": "execute_result"
    }
   ],
   "source": [
    "from factorisation.densenet import get_increasing_grouped_densenet121\n",
    "\n",
    "\n",
    "model = get_increasing_grouped_densenet121()\n",
    "count_nonzero_parameters(model)"
   ]
  },
  {
   "cell_type": "code",
   "execution_count": 5,
   "id": "d0ee36f8",
   "metadata": {},
   "outputs": [
    {
     "data": {
      "text/plain": [
       "78.66"
      ]
     },
     "execution_count": 5,
     "metadata": {},
     "output_type": "execute_result"
    }
   ],
   "source": [
    "with open(\"train_results_increasing_transition_grouped_densenet121.pkl\", \"rb\") as f:\n",
    "    res = pickle.load(f)\n",
    "\n",
    "res[\"acc\"]"
   ]
  },
  {
   "cell_type": "code",
   "execution_count": 6,
   "id": "8610b474",
   "metadata": {},
   "outputs": [
    {
     "data": {
      "text/plain": [
       "90.37"
      ]
     },
     "execution_count": 6,
     "metadata": {},
     "output_type": "execute_result"
    }
   ],
   "source": [
    "with open(\"train_results_transition_grouped_densenet121.pkl\", \"rb\") as f:\n",
    "    res = pickle.load(f)\n",
    "\n",
    "res[\"acc\"]"
   ]
  }
 ],
 "metadata": {
  "kernelspec": {
   "display_name": ".venv",
   "language": "python",
   "name": "python3"
  },
  "language_info": {
   "codemirror_mode": {
    "name": "ipython",
    "version": 3
   },
   "file_extension": ".py",
   "mimetype": "text/x-python",
   "name": "python",
   "nbconvert_exporter": "python",
   "pygments_lexer": "ipython3",
   "version": "3.12.3"
  }
 },
 "nbformat": 4,
 "nbformat_minor": 5
}
