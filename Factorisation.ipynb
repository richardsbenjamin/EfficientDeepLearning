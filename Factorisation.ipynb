{
 "cells": [
  {
   "cell_type": "code",
   "execution_count": 13,
   "id": "3e1421b5",
   "metadata": {},
   "outputs": [],
   "source": [
    "from utils import count_nonzero_parameters, load_untrained_model"
   ]
  },
  {
   "cell_type": "code",
   "execution_count": 15,
   "id": "049f4949",
   "metadata": {},
   "outputs": [],
   "source": [
    "dict_ = load_untrained_model(\"DenseNet121\")\n",
    "model = dict_[\"model\"]"
   ]
  },
  {
   "cell_type": "code",
   "execution_count": 16,
   "id": "ad8c5351",
   "metadata": {},
   "outputs": [
    {
     "data": {
      "text/plain": [
       "6914538"
      ]
     },
     "execution_count": 16,
     "metadata": {},
     "output_type": "execute_result"
    }
   ],
   "source": [
    "count_nonzero_parameters(model)"
   ]
  },
  {
   "cell_type": "code",
   "execution_count": 49,
   "id": "95edcfab",
   "metadata": {},
   "outputs": [],
   "source": [
    "import math\n",
    "from typing import Type\n",
    "\n",
    "import torch\n",
    "import torch.nn as nn\n",
    "import torch.nn.functional as F\n",
    "\n",
    "\n",
    "def get_groups(in_channels, out_channels):\n",
    "    max_possible_groups = math.gcd(in_channels, out_channels)\n",
    "    if max_possible_groups < 4:\n",
    "        return 1\n",
    "    return max_possible_groups\n",
    "\n",
    "\n",
    "class Bottleneck(nn.Module):\n",
    "    def __init__(\n",
    "            self,\n",
    "            in_planes: int,\n",
    "            growth_rate: int,\n",
    "            groups1: int = 1,\n",
    "            groups2: int = 1,\n",
    "        ) -> None:\n",
    "        super(Bottleneck, self).__init__()\n",
    "        self.bn1 = nn.BatchNorm2d(in_planes)\n",
    "        self.conv1 = nn.Conv2d(\n",
    "            in_planes,\n",
    "            4*growth_rate,\n",
    "            kernel_size=1,\n",
    "            bias=False,\n",
    "            groups=groups1,\n",
    "        )\n",
    "        self.bn2 = nn.BatchNorm2d(4*growth_rate)\n",
    "        self.conv2 = nn.Conv2d(\n",
    "            4*growth_rate,\n",
    "            growth_rate,\n",
    "            kernel_size=3,\n",
    "            padding=1,\n",
    "            bias=False,\n",
    "            groups=groups2,\n",
    "        )\n",
    "\n",
    "    def forward(self, x):\n",
    "        out = self.conv1(F.relu(self.bn1(x)))\n",
    "        out = self.conv2(F.relu(self.bn2(out)))\n",
    "        out = torch.cat([out,x], 1)\n",
    "        return out\n",
    "\n",
    "\n",
    "class GroupingCroissantBottleneck(Bottleneck):\n",
    "    def __init__(self, in_planes, growth_rate):\n",
    "        super(GroupingCroissantBottleneck, self).__init__(\n",
    "            in_planes,\n",
    "            growth_rate,\n",
    "            get_groups(in_planes, 4*growth_rate),\n",
    "            get_groups(4*growth_rate, growth_rate),\n",
    "        )\n",
    "\n",
    "\n",
    "class Transition(nn.Module):\n",
    "    def __init__(self, in_planes: int, out_planes: int, groups: int = 1) -> None:\n",
    "        super(Transition, self).__init__()\n",
    "        self.bn = nn.BatchNorm2d(in_planes)\n",
    "        self.conv = nn.Conv2d(\n",
    "            in_planes,\n",
    "            out_planes,\n",
    "            kernel_size=1,\n",
    "            bias=False,\n",
    "            groups=groups,\n",
    "        )\n",
    "\n",
    "    def forward(self, x):\n",
    "        out = self.conv(F.relu(self.bn(x)))\n",
    "        out = F.avg_pool2d(out, 2)\n",
    "        return out\n",
    "\n",
    "\n",
    "class GroupedTransition(Transition):\n",
    "    def __init__(self, in_planes: int, out_planes: int) -> None:\n",
    "        super(GroupedTransition, self).__init__(\n",
    "            in_planes,\n",
    "            out_planes,\n",
    "            get_groups(in_planes, out_planes),\n",
    "        )\n",
    "\n",
    "\n",
    "class DenseNet(nn.Module):\n",
    "    def __init__(\n",
    "            self,\n",
    "            nblocks: list[int],\n",
    "            block: Bottleneck,\n",
    "            transition: Type[Transition],\n",
    "            growth_rate: int = 12,\n",
    "            reduction: float = 0.5,\n",
    "            num_classes: int= 10,\n",
    "        ) -> None:\n",
    "        super(DenseNet, self).__init__()\n",
    "        self.growth_rate = growth_rate\n",
    "\n",
    "        num_planes = 2*growth_rate\n",
    "        self.conv1 = nn.Conv2d(3, num_planes, kernel_size=3, padding=1, bias=False)\n",
    "\n",
    "        self.dense1 = self._make_dense_layers(block, num_planes, nblocks[0])\n",
    "        num_planes += nblocks[0]*growth_rate\n",
    "        out_planes = int(math.floor(num_planes*reduction))\n",
    "        self.trans1 = transition(num_planes, out_planes)\n",
    "        num_planes = out_planes\n",
    "\n",
    "        self.dense2 = self._make_dense_layers(block, num_planes, nblocks[1])\n",
    "        num_planes += nblocks[1]*growth_rate\n",
    "        out_planes = int(math.floor(num_planes*reduction))\n",
    "        self.trans2 = transition(num_planes, out_planes)\n",
    "        num_planes = out_planes\n",
    "\n",
    "        self.dense3 = self._make_dense_layers(block, num_planes, nblocks[2])\n",
    "        num_planes += nblocks[2]*growth_rate\n",
    "        out_planes = int(math.floor(num_planes*reduction))\n",
    "        self.trans3 = transition(num_planes, out_planes)\n",
    "        num_planes = out_planes\n",
    "\n",
    "        self.dense4 = self._make_dense_layers(block, num_planes, nblocks[3])\n",
    "        num_planes += nblocks[3]*growth_rate\n",
    "\n",
    "        self.bn = nn.BatchNorm2d(num_planes)\n",
    "        self.linear = nn.Linear(num_planes, num_classes)\n",
    "\n",
    "    def _make_dense_layers(self, block, in_planes, nblock):\n",
    "        layers = []\n",
    "        for i in range(nblock):\n",
    "            layers.append(block(in_planes, self.growth_rate))\n",
    "            in_planes += self.growth_rate\n",
    "        return nn.Sequential(*layers)\n",
    "\n",
    "    def forward(self, x):\n",
    "        out = self.conv1(x)\n",
    "        out = self.trans1(self.dense1(out))\n",
    "        out = self.trans2(self.dense2(out))\n",
    "        out = self.trans3(self.dense3(out))\n",
    "        out = self.dense4(out)\n",
    "        out = F.avg_pool2d(F.relu(self.bn(out)), 4)\n",
    "        out = out.view(out.size(0), -1)\n",
    "        out = self.linear(out)\n",
    "        return out\n",
    "\n",
    "def DenseNet121():\n",
    "    return DenseNet([6,12,24,16], GroupingCroissantBottleneck, GroupedTransition, growth_rate=32)\n",
    "\n",
    "def DenseNet169():\n",
    "    return DenseNet(Bottleneck, [6,12,32,32], growth_rate=32)\n",
    "\n",
    "def DenseNet201():\n",
    "    return DenseNet(Bottleneck, [6,12,48,32], growth_rate=32)\n",
    "\n",
    "def DenseNet161():\n",
    "    return DenseNet(Bottleneck, [6,12,36,24], growth_rate=48)\n",
    "\n",
    "def densenet_cifar():\n",
    "    return DenseNet(Bottleneck, [6,12,24,16], growth_rate=12)\n",
    "\n",
    "def test():\n",
    "    net = densenet_cifar()\n",
    "    x = torch.randn(1,3,32,32)\n",
    "    y = net(x)\n",
    "    print(y)\n",
    "\n",
    "# test()\n"
   ]
  },
  {
   "cell_type": "code",
   "execution_count": 50,
   "id": "14146ad1",
   "metadata": {},
   "outputs": [],
   "source": [
    "grouping1 = DenseNet121()"
   ]
  },
  {
   "cell_type": "code",
   "execution_count": 51,
   "id": "d7e2d628",
   "metadata": {},
   "outputs": [
    {
     "data": {
      "text/plain": [
       "210666"
      ]
     },
     "execution_count": 51,
     "metadata": {},
     "output_type": "execute_result"
    }
   ],
   "source": [
    "count_nonzero_parameters(grouping1)"
   ]
  },
  {
   "cell_type": "code",
   "execution_count": null,
   "id": "bfcf3f3e",
   "metadata": {},
   "outputs": [],
   "source": []
  },
  {
   "cell_type": "code",
   "execution_count": null,
   "id": "d0ee36f8",
   "metadata": {},
   "outputs": [],
   "source": []
  },
  {
   "cell_type": "code",
   "execution_count": null,
   "id": "8610b474",
   "metadata": {},
   "outputs": [],
   "source": []
  }
 ],
 "metadata": {
  "kernelspec": {
   "display_name": ".venv",
   "language": "python",
   "name": "python3"
  },
  "language_info": {
   "codemirror_mode": {
    "name": "ipython",
    "version": 3
   },
   "file_extension": ".py",
   "mimetype": "text/x-python",
   "name": "python",
   "nbconvert_exporter": "python",
   "pygments_lexer": "ipython3",
   "version": "3.12.3"
  }
 },
 "nbformat": 4,
 "nbformat_minor": 5
}
