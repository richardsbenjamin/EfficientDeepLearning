{
 "cells": [
  {
   "cell_type": "code",
   "execution_count": 13,
   "id": "3e1421b5",
   "metadata": {},
   "outputs": [],
   "source": [
    "from utils import count_nonzero_parameters, load_untrained_model"
   ]
  },
  {
   "cell_type": "code",
   "execution_count": 15,
   "id": "049f4949",
   "metadata": {},
   "outputs": [],
   "source": [
    "dict_ = load_untrained_model(\"DenseNet121\")\n",
    "model = dict_[\"model\"]"
   ]
  },
  {
   "cell_type": "code",
   "execution_count": 16,
   "id": "ad8c5351",
   "metadata": {},
   "outputs": [
    {
     "data": {
      "text/plain": [
       "6914538"
      ]
     },
     "execution_count": 16,
     "metadata": {},
     "output_type": "execute_result"
    }
   ],
   "source": [
    "count_nonzero_parameters(model)"
   ]
  },
  {
   "cell_type": "code",
   "execution_count": null,
   "id": "95edcfab",
   "metadata": {},
   "outputs": [],
   "source": []
  },
  {
   "cell_type": "code",
   "execution_count": null,
   "id": "bfcf3f3e",
   "metadata": {},
   "outputs": [],
   "source": []
  },
  {
   "cell_type": "code",
   "execution_count": null,
   "id": "d0ee36f8",
   "metadata": {},
   "outputs": [],
   "source": []
  },
  {
   "cell_type": "code",
   "execution_count": null,
   "id": "8610b474",
   "metadata": {},
   "outputs": [],
   "source": []
  }
 ],
 "metadata": {
  "kernelspec": {
   "display_name": ".venv",
   "language": "python",
   "name": "python3"
  },
  "language_info": {
   "codemirror_mode": {
    "name": "ipython",
    "version": 3
   },
   "file_extension": ".py",
   "mimetype": "text/x-python",
   "name": "python",
   "nbconvert_exporter": "python",
   "pygments_lexer": "ipython3",
   "version": "3.12.3"
  }
 },
 "nbformat": 4,
 "nbformat_minor": 5
}
