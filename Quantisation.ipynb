{
 "cells": [
  {
   "cell_type": "code",
   "execution_count": 1,
   "id": "18f5dc41",
   "metadata": {},
   "outputs": [],
   "source": [
    "import os\n",
    "\n",
    "import pickle\n",
    "import torch\n",
    "import torch.nn as nn\n",
    "from torch import dtype as T_dtype\n",
    "from torch.quantization import get_default_qconfig\n",
    "from torch.ao.quantization.quantize_fx import prepare_fx, convert_fx\n",
    "from torch.utils.data.dataloader import DataLoader\n",
    "\n",
    "from utils import (\n",
    "    count_nonzero_parameters,\n",
    "    get_device,\n",
    "    get_model_size_mb,\n",
    "    get_test_cifar10_dataloader,\n",
    "    load_trained_model,\n",
    "    test,\n",
    ")"
   ]
  },
  {
   "cell_type": "code",
   "execution_count": 1,
   "id": "81460348",
   "metadata": {},
   "outputs": [
    {
     "ename": "NameError",
     "evalue": "name 'get_default_qconfig' is not defined",
     "output_type": "error",
     "traceback": [
      "\u001b[31m---------------------------------------------------------------------------\u001b[39m",
      "\u001b[31mNameError\u001b[39m                                 Traceback (most recent call last)",
      "\u001b[36mCell\u001b[39m\u001b[36m \u001b[39m\u001b[32mIn[1]\u001b[39m\u001b[32m, line 1\u001b[39m\n\u001b[32m----> \u001b[39m\u001b[32m1\u001b[39m QCONFIG = \u001b[43mget_default_qconfig\u001b[49m(\u001b[33m'\u001b[39m\u001b[33mfbgemm\u001b[39m\u001b[33m'\u001b[39m)\n\u001b[32m      2\u001b[39m QCONFIG_DEFAULT = {\n\u001b[32m      3\u001b[39m     \u001b[33m\"\u001b[39m\u001b[33m\"\u001b[39m: QCONFIG,\n\u001b[32m      4\u001b[39m     \u001b[33m\"\u001b[39m\u001b[33mobject_type\u001b[39m\u001b[33m\"\u001b[39m: [\n\u001b[32m   (...)\u001b[39m\u001b[32m      9\u001b[39m     ]\n\u001b[32m     10\u001b[39m }\n\u001b[32m     12\u001b[39m \u001b[38;5;28;01mdef\u001b[39;00m\u001b[38;5;250m \u001b[39m\u001b[34mquantise_dynamic\u001b[39m(\n\u001b[32m     13\u001b[39m         model: nn.Module,\n\u001b[32m     14\u001b[39m         spec: \u001b[38;5;28mtuple\u001b[39m = {torch.nn.Linear},\n\u001b[32m     15\u001b[39m         dtype: T_dtype = torch.qint8,\n\u001b[32m     16\u001b[39m     ) -> nn.Module:\n",
      "\u001b[31mNameError\u001b[39m: name 'get_default_qconfig' is not defined"
     ]
    }
   ],
   "source": [
    "QCONFIG = get_default_qconfig('fbgemm')\n",
    "QCONFIG_DEFAULT = {\n",
    "    \"\": QCONFIG,\n",
    "    \"object_type\": [\n",
    "        (torch.nn.Conv2d, QCONFIG),\n",
    "        (torch.nn.Linear, QCONFIG),\n",
    "        (torch.nn.ReLU, QCONFIG),\n",
    "        (torch.nn.BatchNorm2d, QCONFIG),\n",
    "    ]\n",
    "}\n",
    "\n",
    "def quantise_dynamic(\n",
    "        model: nn.Module,\n",
    "        spec: tuple = {torch.nn.Linear},\n",
    "        dtype: T_dtype = torch.qint8,\n",
    "    ) -> nn.Module:\n",
    "    return torch.quantization.quantize_dynamic(\n",
    "        model, spec, dtype=dtype,\n",
    "    )\n",
    "\n",
    "def quantise_static(\n",
    "        model: nn.Module,\n",
    "        calibration_loader: DataLoader,\n",
    "        qconfig_dict: dict = QCONFIG_DEFAULT,\n",
    "    ) -> nn.Module:\n",
    "    model = model.to('cpu')\n",
    "    example_inputs = (next(iter(calibration_loader))[0],)\n",
    "    prepared_model = prepare_fx(model, qconfig_dict, example_inputs)\n",
    "    return convert_fx(prepared_model)"
   ]
  },
  {
   "cell_type": "code",
   "execution_count": 3,
   "id": "22cbd380",
   "metadata": {},
   "outputs": [],
   "source": [
    "test_loader = get_test_cifar10_dataloader()\n",
    "device = get_device()"
   ]
  },
  {
   "cell_type": "markdown",
   "id": "741c61de",
   "metadata": {},
   "source": [
    "### No Quantisation"
   ]
  },
  {
   "cell_type": "code",
   "execution_count": 4,
   "id": "cb9ee3e3",
   "metadata": {},
   "outputs": [],
   "source": [
    "model, og_acc = load_trained_model()\n",
    "og_size = get_model_size_mb(model)"
   ]
  },
  {
   "cell_type": "markdown",
   "id": "c6ccb9a0",
   "metadata": {},
   "source": [
    "### Dynamic Quantisation"
   ]
  },
  {
   "cell_type": "code",
   "execution_count": 5,
   "id": "10371b04",
   "metadata": {},
   "outputs": [],
   "source": [
    "model.to(\"cpu\")\n",
    "dynamic_quantised_model = torch.quantization.quantize_dynamic(\n",
    "        model, {torch.nn.Linear}, dtype=torch.qint8,\n",
    "    )\n",
    "dynamic_quantised_size = get_model_size_mb(dynamic_quantised_model)\n",
    "\n",
    "dynamic_quantised_acc, _ = test(\n",
    "    test_loader,\n",
    "    dynamic_quantised_model,\n",
    "    device=\"cpu\"\n",
    ")"
   ]
  },
  {
   "cell_type": "code",
   "execution_count": 6,
   "id": "648142c6",
   "metadata": {},
   "outputs": [
    {
     "name": "stdout",
     "output_type": "stream",
     "text": [
      "Dynamic quantisation size: 28.314057 (MB)\n",
      "Dynamic quantisation accuracy: 90.44\n"
     ]
    }
   ],
   "source": [
    "print(f\"Dynamic quantisation size: {dynamic_quantised_size} (MB)\")\n",
    "print(f\"Dynamic quantisation accuracy: {dynamic_quantised_acc}\")"
   ]
  },
  {
   "cell_type": "markdown",
   "id": "d8d1fa22",
   "metadata": {},
   "source": [
    "### Static Quantisation"
   ]
  },
  {
   "cell_type": "code",
   "execution_count": 7,
   "id": "d5477809",
   "metadata": {},
   "outputs": [
    {
     "name": "stderr",
     "output_type": "stream",
     "text": [
      "/users/local/b24richa/EfficientDeepLearning/.venv/lib/python3.12/site-packages/torch/ao/quantization/quantize_fx.py:146: FutureWarning: Passing a QConfig dictionary to prepare is deprecated and will not be supported in a future version. Please pass in a QConfigMapping instead.\n",
      "  prepared = prepare(\n",
      "/users/local/b24richa/EfficientDeepLearning/.venv/lib/python3.12/site-packages/torch/ao/quantization/observer.py:244: UserWarning: Please use quant_min and quant_max to specify the range for observers.                     reduce_range will be deprecated in a future release of PyTorch.\n",
      "  warnings.warn(\n",
      "/users/local/b24richa/EfficientDeepLearning/.venv/lib/python3.12/site-packages/torch/ao/quantization/observer.py:1333: UserWarning: must run observer before calling calculate_qparams.                                    Returning default scale and zero point \n",
      "  warnings.warn(\n"
     ]
    },
    {
     "name": "stdout",
     "output_type": "stream",
     "text": [
      "Static quantisation size: 7.896661 (MB)\n",
      "Static quantisation accuracy: 10.0\n"
     ]
    }
   ],
   "source": [
    "model.eval() \n",
    "static_quantised_model = quantise_static(model, test_loader)\n",
    "static_quantised_size = get_model_size_mb(static_quantised_model)\n",
    "\n",
    "static_quantised_model.to(\"cpu\")\n",
    "static_quantised_acc, _ = test(\n",
    "    test_loader,\n",
    "    static_quantised_model,\n",
    "    device=\"cpu\"\n",
    ")\n",
    "\n",
    "print(f\"Static quantisation size: {static_quantised_size} (MB)\")\n",
    "print(f\"Static quantisation accuracy: {static_quantised_acc}\")"
   ]
  },
  {
   "cell_type": "markdown",
   "id": "e2302e4e",
   "metadata": {},
   "source": [
    "### 16 bit quantisation"
   ]
  },
  {
   "cell_type": "code",
   "execution_count": 8,
   "id": "aa0000df",
   "metadata": {},
   "outputs": [
    {
     "name": "stdout",
     "output_type": "stream",
     "text": [
      "16 bit quantisation size: 14.274451 (MB)\n",
      "16 bit quantisation accuracy: 90.42\n"
     ]
    }
   ],
   "source": [
    "model = model.to(device)\n",
    "half_model = model.half()\n",
    "half_model_size = get_model_size_mb(half_model)\n",
    "\n",
    "half_model_acc, _ = test(\n",
    "    test_loader,\n",
    "    half_model,\n",
    "    half=True\n",
    ")\n",
    "\n",
    "print(f\"16 bit quantisation size: {half_model_size} (MB)\")\n",
    "print(f\"16 bit quantisation accuracy: {half_model_acc}\")"
   ]
  },
  {
   "cell_type": "markdown",
   "id": "06c5aedb",
   "metadata": {},
   "source": [
    "### Binary quantisation"
   ]
  },
  {
   "cell_type": "code",
   "execution_count": 12,
   "id": "6b60cf8f",
   "metadata": {},
   "outputs": [
    {
     "name": "stdout",
     "output_type": "stream",
     "text": [
      "Binary quantisation size: 0.829255 (MB)\n",
      "Binary quantisation accuracy: 81.89\n"
     ]
    }
   ],
   "source": [
    "with open(\"quantisation/bc_test_acc.pkl\", \"rb\") as f:\n",
    "    bin_res = pickle.load(f)\n",
    "\n",
    "bc_model = bin_res[\"bc_model\"]\n",
    "bc_test_acc = bin_res[\"bc_test_acc\"]\n",
    "bc_estimated_quant = (\n",
    "    count_nonzero_parameters(bc_model) / (8 * 1048576)\n",
    ")\n",
    "\n",
    "print(f\"Binary quantisation size: {bc_estimated_quant:2f} (MB)\")\n",
    "print(f\"Binary quantisation accuracy: {bc_test_acc}\")"
   ]
  },
  {
   "cell_type": "code",
   "execution_count": null,
   "id": "4aaa8569",
   "metadata": {},
   "outputs": [],
   "source": []
  },
  {
   "cell_type": "code",
   "execution_count": 10,
   "id": "ab9c05e2",
   "metadata": {},
   "outputs": [
    {
     "data": {
      "text/plain": [
       "<matplotlib.legend.Legend at 0x7518d700afc0>"
      ]
     },
     "execution_count": 10,
     "metadata": {},
     "output_type": "execute_result"
    },
    {
     "data": {
      "image/png": "[encoded data removed]",
      "text/plain": [
       "<Figure size 640x480 with 1 Axes>"
      ]
     },
     "metadata": {},
     "output_type": "display_data"
    }
   ],
   "source": [
    "import matplotlib.pyplot as plt\n",
    "\n",
    "x = [\n",
    "    og_size,\n",
    "    dynamic_quantised_size,\n",
    "    static_quantised_size,\n",
    "    half_model_size,\n",
    "    bc_estimated_quant,\n",
    "]\n",
    "y = [\n",
    "    og_acc,\n",
    "    dynamic_quantised_acc, \n",
    "    static_quantised_acc,\n",
    "    half_model_acc,\n",
    "    bc_test_acc,\n",
    "]\n",
    "\n",
    "labels = ['Dynamic Quant', 'Original','Static Quant', 'Half', 'Binary Connect']\n",
    "colors = ['red', 'blue', 'green', 'orange', 'purple']\n",
    "\n",
    "for xi, yi, label, color in zip(x, y, labels, colors):\n",
    "    plt.scatter(xi, yi, label=label, color=color)\n",
    "\n",
    "plt.xlabel(\"Size (MB)\")\n",
    "plt.ylabel(\"Accuracy (%)\")\n",
    "plt.title(\"Model Size (MB) v. Accuracy for Various Quantisation Methods\")\n",
    "plt.legend()"
   ]
  },
  {
   "cell_type": "code",
   "execution_count": null,
   "id": "8cccf2e9",
   "metadata": {},
   "outputs": [],
   "source": []
  }
 ],
 "metadata": {
  "kernelspec": {
   "display_name": ".venv",
   "language": "python",
   "name": "python3"
  },
  "language_info": {
   "codemirror_mode": {
    "name": "ipython",
    "version": 3
   },
   "file_extension": ".py",
   "mimetype": "text/x-python",
   "name": "python",
   "nbconvert_exporter": "python",
   "pygments_lexer": "ipython3",
   "version": "3.12.3"
  }
 },
 "nbformat": 4,
 "nbformat_minor": 5
}
